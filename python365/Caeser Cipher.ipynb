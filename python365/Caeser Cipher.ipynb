{
 "cells": [
  {
   "cell_type": "markdown",
   "id": "38e4d32a",
   "metadata": {},
   "source": [
    "Caesar Cipher"
   ]
  },
  {
   "cell_type": "code",
   "execution_count": 43,
   "id": "126caf31",
   "metadata": {},
   "outputs": [
    {
     "data": {
      "text/plain": [
       "'prakhar paxyzdey.'"
      ]
     },
     "execution_count": 43,
     "metadata": {},
     "output_type": "execute_result"
    }
   ],
   "source": [
    "# strin='Prakhar PaXYZdey.'\n",
    "# strin.lower()"
   ]
  },
  {
   "cell_type": "code",
   "execution_count": 18,
   "id": "92ec2f9b",
   "metadata": {},
   "outputs": [],
   "source": [
    "alphabet='abcdefghijklmnopqrstuvwxyz'"
   ]
  },
  {
   "cell_type": "markdown",
   "id": "be0e7394",
   "metadata": {},
   "source": [
    "Simple Model"
   ]
  },
  {
   "cell_type": "code",
   "execution_count": 48,
   "id": "620b52d5",
   "metadata": {},
   "outputs": [
    {
     "name": "stdout",
     "output_type": "stream",
     "text": [
      "sudnkdu sdabcghb.\n"
     ]
    }
   ],
   "source": [
    "output=''\n",
    "for char in strin.lower():\n",
    "    if char not in alphabet:\n",
    "        output=output+char\n",
    "\n",
    "    else:\n",
    "        index=alphabet.find(char)\n",
    "        if index<=22:\n",
    "            output=output+alphabet[index+3]\n",
    "\n",
    "\n",
    "        else:\n",
    "            index=index%23\n",
    "            output=output+alphabet[(index)]\n",
    "print(output)\n",
    "    "
   ]
  },
  {
   "cell_type": "code",
   "execution_count": null,
   "id": "45020d46",
   "metadata": {},
   "outputs": [],
   "source": [
    "# A BETTER APPROACH"
   ]
  },
  {
   "cell_type": "code",
   "execution_count": 80,
   "id": "e79c755d",
   "metadata": {},
   "outputs": [],
   "source": [
    "def enc_dec(strin,shift_v):    \n",
    "    output=''\n",
    "    for char in strin.lower():\n",
    "        if char not in alphabet:\n",
    "            output=output+char\n",
    "\n",
    "        else:\n",
    "            index=alphabet.find(char)\n",
    "\n",
    "            index=index\n",
    "            output=output+alphabet[(index+shift_v)%26]# this index+shift_v  gives the final number from which it should  in\n",
    "    \n",
    "    "
   ]
  },
  {
   "cell_type": "code",
   "execution_count": 86,
   "id": "1627f31e",
   "metadata": {},
   "outputs": [
    {
     "name": "stdout",
     "output_type": "stream",
     "text": [
      "abc.\n"
     ]
    }
   ],
   "source": [
    "alphabet='abcdefghijklmnopqrstuvwxyz'\n",
    "stri='XYZ.'\n",
    "enc_s=enc_dec(stri, 3)\n",
    "print(enc_s)"
   ]
  },
  {
   "cell_type": "code",
   "execution_count": 84,
   "id": "048cbc09",
   "metadata": {},
   "outputs": [
    {
     "data": {
      "text/plain": [
       "'xyz.'"
      ]
     },
     "execution_count": 84,
     "metadata": {},
     "output_type": "execute_result"
    }
   ],
   "source": [
    "enc_dec(enc_s, -3)"
   ]
  },
  {
   "cell_type": "code",
   "execution_count": null,
   "id": "a31c5ac6",
   "metadata": {},
   "outputs": [],
   "source": []
  }
 ],
 "metadata": {
  "kernelspec": {
   "display_name": "Python 3",
   "language": "python",
   "name": "python3"
  },
  "language_info": {
   "codemirror_mode": {
    "name": "ipython",
    "version": 3
   },
   "file_extension": ".py",
   "mimetype": "text/x-python",
   "name": "python",
   "nbconvert_exporter": "python",
   "pygments_lexer": "ipython3",
   "version": "3.8.8"
  }
 },
 "nbformat": 4,
 "nbformat_minor": 5
}
