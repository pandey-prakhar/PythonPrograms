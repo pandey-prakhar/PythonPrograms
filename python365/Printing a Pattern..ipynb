{
 "cells": [
  {
   "cell_type": "markdown",
   "id": "1ac51b61",
   "metadata": {},
   "source": [
    "Printing a pattern."
   ]
  },
  {
   "cell_type": "code",
   "execution_count": 171,
   "id": "2e342f21",
   "metadata": {},
   "outputs": [
    {
     "ename": "ModuleNotFoundError",
     "evalue": "No module named 'matplotlib.cn'",
     "output_type": "error",
     "traceback": [
      "\u001b[1;31m---------------------------------------------------------------------------\u001b[0m",
      "\u001b[1;31mModuleNotFoundError\u001b[0m                       Traceback (most recent call last)",
      "\u001b[1;32m<ipython-input-171-bc778b8432a7>\u001b[0m in \u001b[0;36m<module>\u001b[1;34m\u001b[0m\n\u001b[1;32m----> 1\u001b[1;33m \u001b[1;32mimport\u001b[0m \u001b[0mmatplotlib\u001b[0m\u001b[1;33m.\u001b[0m\u001b[0mcn\u001b[0m \u001b[1;32mas\u001b[0m \u001b[0mcn\u001b[0m\u001b[1;33m\u001b[0m\u001b[1;33m\u001b[0m\u001b[0m\n\u001b[0m",
      "\u001b[1;31mModuleNotFoundError\u001b[0m: No module named 'matplotlib.cn'"
     ]
    }
   ],
   "source": [
    "import matplotlib.cn as cn"
   ]
  },
  {
   "cell_type": "code",
   "execution_count": 6,
   "id": "d6fe81f7",
   "metadata": {},
   "outputs": [
    {
     "name": "stdout",
     "output_type": "stream",
     "text": [
      "enter the number of lines you want10\n",
      " *\n",
      " * *\n",
      " * * *\n",
      " * * * *\n",
      " * * * * *\n",
      " * * * * * *\n",
      " * * * * * * *\n",
      " * * * * * * * *\n",
      " * * * * * * * * *\n",
      " * * * * * * * * * *\n"
     ]
    }
   ],
   "source": [
    "#a normal pattern printing asterisk.(Right angle)\n",
    "n=int(input('enter the number of lines you want'))\n",
    "for i in range(1,n+1):\n",
    "    \n",
    "    \n",
    "    print(' *'*i)"
   ]
  },
  {
   "cell_type": "code",
   "execution_count": 16,
   "id": "167384df",
   "metadata": {},
   "outputs": [
    {
     "name": "stdout",
     "output_type": "stream",
     "text": [
      "enter the number of lines you want10\n",
      "          *\n",
      "         * *\n",
      "        * * *\n",
      "       * * * *\n",
      "      * * * * *\n",
      "     * * * * * *\n",
      "    * * * * * * *\n",
      "   * * * * * * * *\n",
      "  * * * * * * * * *\n",
      " * * * * * * * * * *\n"
     ]
    }
   ],
   "source": [
    "#a normal pattern printing asterisk.(right side right triangle)\n",
    "m=int(input('enter the number of lines you want'))\n",
    "for i in range(1,m+1):\n",
    "    print(' '*(m-i), end ='')\n",
    "    print(' *'*i)\n",
    "    "
   ]
  },
  {
   "cell_type": "code",
   "execution_count": 7,
   "id": "b4ddfa0a",
   "metadata": {},
   "outputs": [
    {
     "name": "stdout",
     "output_type": "stream",
     "text": [
      "enter the number of lines you want5\n",
      "    * \n",
      "   * * \n",
      "  * * * \n",
      " * * * * \n",
      "* * * * * \n"
     ]
    }
   ],
   "source": [
    "#a normal pattern printing asterisk.(right side right triangle)\n",
    "m=int(input('enter the number of lines you want'))\n",
    "for i in range(1,m+1):\n",
    "    print(' '*(m-i), end ='')\n",
    "    print('* '*i)# put space in place of _ to print a clean triangle."
   ]
  },
  {
   "cell_type": "code",
   "execution_count": null,
   "id": "02d7057e",
   "metadata": {},
   "outputs": [],
   "source": []
  },
  {
   "cell_type": "markdown",
   "id": "04937d66",
   "metadata": {},
   "source": [
    "PRINTING PATTERN OF NUMBERS."
   ]
  },
  {
   "cell_type": "code",
   "execution_count": 18,
   "id": "482dcc2b",
   "metadata": {},
   "outputs": [
    {
     "name": "stdout",
     "output_type": "stream",
     "text": [
      "enter the number of lines you want10\n",
      "1  \n",
      "1 2  \n",
      "1 2 3  \n",
      "1 2 3 4  \n",
      "1 2 3 4 5  \n",
      "1 2 3 4 5 6  \n",
      "1 2 3 4 5 6 7  \n",
      "1 2 3 4 5 6 7 8  \n",
      "1 2 3 4 5 6 7 8 9  \n",
      "1 2 3 4 5 6 7 8 9 10  \n"
     ]
    }
   ],
   "source": [
    "n=int(input('enter the number of lines you want'))\n",
    "for i in range(1,n+1):\n",
    "    \n",
    "    for j in range(1,i+1):\n",
    "        print(f\"{j} \", end=\"\")\n",
    "    print(\" \")\n",
    "        "
   ]
  },
  {
   "cell_type": "code",
   "execution_count": 23,
   "id": "9431c10d",
   "metadata": {
    "scrolled": true
   },
   "outputs": [
    {
     "name": "stdout",
     "output_type": "stream",
     "text": [
      "enter the number of lines you want10\n",
      "1 \n",
      "2 3 \n",
      "4 5 6 \n",
      "7 8 9 10 \n",
      "11 12 13 14 15 \n",
      "16 17 18 19 20 21 \n",
      "22 23 24 25 26 27 28 \n",
      "29 30 31 32 33 34 35 36 \n",
      "37 38 39 40 41 42 43 44 45 \n",
      "46 47 48 49 50 51 52 53 54 55 \n"
     ]
    }
   ],
   "source": [
    "n=int(input('enter the number of lines you want'))\n",
    "k=1\n",
    "for i in range(1,n+1):\n",
    "\n",
    "    for j in range(1,i+1):\n",
    "        print( f\"{k}\", end=\" \")\n",
    "        k+=1\n",
    "    print(\"\")"
   ]
  },
  {
   "cell_type": "markdown",
   "id": "a46ea977",
   "metadata": {},
   "source": [
    "printing above using recursion.\n"
   ]
  },
  {
   "cell_type": "code",
   "execution_count": 68,
   "id": "ecabfb7e",
   "metadata": {},
   "outputs": [
    {
     "name": "stdout",
     "output_type": "stream",
     "text": [
      "enter the number of lines you want10\n"
     ]
    }
   ],
   "source": [
    "n=int(input('enter the number of lines you want'))\n"
   ]
  },
  {
   "cell_type": "code",
   "execution_count": 125,
   "id": "336ac2cb",
   "metadata": {},
   "outputs": [],
   "source": [
    "def printn(n,i=1):\n",
    "    print('')\n",
    "    if n>0:\n",
    "#         print(\" \"*(n-1), end=\" \")\n",
    "        print('*'*i, end='')\n",
    "        i+=1\n",
    "        printn(n-1,i)\n",
    "    \n",
    "    \n",
    "    \n",
    "        \n",
    "        "
   ]
  },
  {
   "cell_type": "code",
   "execution_count": 126,
   "id": "775d099a",
   "metadata": {},
   "outputs": [
    {
     "name": "stdout",
     "output_type": "stream",
     "text": [
      "\n",
      "*\n",
      "**\n",
      "***\n",
      "****\n",
      "*****\n",
      "******\n",
      "*******\n",
      "********\n",
      "*********\n",
      "**********\n"
     ]
    }
   ],
   "source": [
    "printn(10)"
   ]
  },
  {
   "cell_type": "code",
   "execution_count": 145,
   "id": "9038ebb7",
   "metadata": {},
   "outputs": [],
   "source": [
    "def printn(n,i=1):\n",
    "    print('')\n",
    "    if n>0:\n",
    "        print(\" \"*(n-1), end=\" \")\n",
    "        for j in range(1,i+1):\n",
    "            print(f' {j}', end='')\n",
    "        i+=1\n",
    "        printn(n-1,i)"
   ]
  },
  {
   "cell_type": "code",
   "execution_count": 146,
   "id": "af1804be",
   "metadata": {},
   "outputs": [
    {
     "name": "stdout",
     "output_type": "stream",
     "text": [
      "\n",
      "      1\n",
      "     1 2\n",
      "    1 2 3\n",
      "   1 2 3 4\n",
      "  1 2 3 4 5\n"
     ]
    }
   ],
   "source": [
    "printn(5)"
   ]
  },
  {
   "cell_type": "code",
   "execution_count": 152,
   "id": "1d2fdce4",
   "metadata": {},
   "outputs": [],
   "source": [
    "def printn(n,i=1,k=1):\n",
    "    print('')\n",
    "    if n>0:\n",
    "        print(\" \"*(n-1), end=\" \")\n",
    "        for j in range(1,i+1):\n",
    "            print(f' {k}', end='')\n",
    "        i+=1\n",
    "        k+=1\n",
    "        printn(n-1,i,k)"
   ]
  },
  {
   "cell_type": "code",
   "execution_count": 153,
   "id": "2656e215",
   "metadata": {},
   "outputs": [
    {
     "name": "stdout",
     "output_type": "stream",
     "text": [
      "\n",
      "      1\n",
      "     2 2\n",
      "    3 3 3\n",
      "   4 4 4 4\n",
      "  5 5 5 5 5\n"
     ]
    }
   ],
   "source": [
    "printn(5)"
   ]
  },
  {
   "cell_type": "code",
   "execution_count": 169,
   "id": "740a3dc0",
   "metadata": {},
   "outputs": [],
   "source": [
    "def printn(n,i=1,k=1):\n",
    "    print('')\n",
    "    if n>0:\n",
    "#         print(\" \"*(n-1), end=\" \")\n",
    "        for j in range(1,i+1):\n",
    "            print(k, end=' ')\n",
    "            k+=1\n",
    "        i+=1\n",
    "        \n",
    "        printn(n-1,i,k)"
   ]
  },
  {
   "cell_type": "code",
   "execution_count": 170,
   "id": "19122603",
   "metadata": {},
   "outputs": [
    {
     "name": "stdout",
     "output_type": "stream",
     "text": [
      "\n",
      "1 \n",
      "2 3 \n",
      "4 5 6 \n",
      "7 8 9 10 \n",
      "11 12 13 14 15 \n"
     ]
    }
   ],
   "source": [
    "printn(5)"
   ]
  }
 ],
 "metadata": {
  "kernelspec": {
   "display_name": "Python 3",
   "language": "python",
   "name": "python3"
  },
  "language_info": {
   "codemirror_mode": {
    "name": "ipython",
    "version": 3
   },
   "file_extension": ".py",
   "mimetype": "text/x-python",
   "name": "python",
   "nbconvert_exporter": "python",
   "pygments_lexer": "ipython3",
   "version": "3.8.8"
  }
 },
 "nbformat": 4,
 "nbformat_minor": 5
}
