{
 "cells": [
  {
   "cell_type": "code",
   "execution_count": 88,
   "id": "e2ca246b",
   "metadata": {},
   "outputs": [
    {
     "name": "stdout",
     "output_type": "stream",
     "text": [
      "3\n",
      "ekta\n",
      "13\n",
      "14\n",
      "15\n",
      "prakhar\n",
      "13\n",
      "14\n",
      "15\n",
      "rashmi\n",
      "13\n",
      "14\n",
      "15\n"
     ]
    }
   ],
   "source": [
    "dic={}\n",
    "n=int(input())\n",
    "for i in range(n):\n",
    "               name=input()\n",
    "               mlist=[]\n",
    "               for j in range(3):\n",
    "                   mlist.append(int(input()))\n",
    "               dic[name]=mlist\n"
   ]
  },
  {
   "cell_type": "code",
   "execution_count": 90,
   "id": "6a98ee09",
   "metadata": {},
   "outputs": [
    {
     "name": "stdout",
     "output_type": "stream",
     "text": [
      "ekta\n"
     ]
    },
    {
     "data": {
      "text/plain": [
       "[13, 14, 15]"
      ]
     },
     "execution_count": 90,
     "metadata": {},
     "output_type": "execute_result"
    }
   ],
   "source": [
    "query=input()\n",
    "dic[query]"
   ]
  },
  {
   "cell_type": "code",
   "execution_count": 92,
   "id": "8426b873",
   "metadata": {},
   "outputs": [
    {
     "name": "stdout",
     "output_type": "stream",
     "text": [
      "14.0\n"
     ]
    }
   ],
   "source": [
    "sum=0\n",
    "for a in (dic[query]):\n",
    "    sum+=a\n",
    "print(sum/3)"
   ]
  },
  {
   "cell_type": "code",
   "execution_count": 93,
   "id": "cd7d034b",
   "metadata": {},
   "outputs": [
    {
     "ename": "IndentationError",
     "evalue": "unexpected indent (<ipython-input-93-e29517fcc95a>, line 2)",
     "output_type": "error",
     "traceback": [
      "\u001b[1;36m  File \u001b[1;32m\"<ipython-input-93-e29517fcc95a>\"\u001b[1;36m, line \u001b[1;32m2\u001b[0m\n\u001b[1;33m    student_marks = {}\u001b[0m\n\u001b[1;37m    ^\u001b[0m\n\u001b[1;31mIndentationError\u001b[0m\u001b[1;31m:\u001b[0m unexpected indent\n"
     ]
    }
   ],
   "source": [
    "n = int(input())\n",
    "    student_marks = {}\n",
    "    for _ in range(n):\n",
    "        name, *line = input().split()\n",
    "        scores = list(map(float, line))\n",
    "        student_marks[name] = scores\n",
    "    query_name = input()"
   ]
  },
  {
   "cell_type": "markdown",
   "id": "0fc31327",
   "metadata": {},
   "source": [
    "n = int(input())\n",
    "student_marks = {}\n",
    "for i in range(n):\n",
    "    clist= input().split()\n",
    "    student_marks[clist[0]]=clist[1:]\n"
   ]
  },
  {
   "cell_type": "code",
   "execution_count": 122,
   "id": "ad6810a9",
   "metadata": {},
   "outputs": [
    {
     "name": "stdout",
     "output_type": "stream",
     "text": [
      "2\n",
      "Harsh 25 26.5 28\n",
      "Anurag 26 28 30\n"
     ]
    }
   ],
   "source": [
    "n = int(input())\n",
    "student_marks = {}\n",
    "for i in range(n):\n",
    "    clist= input().split()\n",
    "    student_marks[clist[0]]=(clist[1:])\n"
   ]
  },
  {
   "cell_type": "code",
   "execution_count": 123,
   "id": "fba0b64e",
   "metadata": {},
   "outputs": [
    {
     "name": "stdout",
     "output_type": "stream",
     "text": [
      "{'Harsh': ['25', '26.5', '28'], 'Anurag': ['26', '28', '30']}\n"
     ]
    }
   ],
   "source": [
    "print(student_marks)"
   ]
  },
  {
   "cell_type": "code",
   "execution_count": 124,
   "id": "c35a8cdb",
   "metadata": {},
   "outputs": [
    {
     "name": "stdout",
     "output_type": "stream",
     "text": [
      "Harsh\n",
      "26.50\n"
     ]
    }
   ],
   "source": [
    "query_name = input()\n",
    "sum=0\n",
    "for marks in student_marks[query_name]:\n",
    "    sum+=float(marks)\n",
    "print(\"{:0.2f}\".format(sum/3))"
   ]
  },
  {
   "cell_type": "code",
   "execution_count": null,
   "id": "9913d043",
   "metadata": {},
   "outputs": [],
   "source": [
    "2\n",
    "Harsh 25 26.5 28\n",
    "Anurag 26 28 30\n",
    "Harsh"
   ]
  },
  {
   "cell_type": "code",
   "execution_count": 139,
   "id": "a048e348",
   "metadata": {},
   "outputs": [],
   "source": [
    "import math\n",
    "pi=math.pi\n",
    "x=13.434353253243\n"
   ]
  },
  {
   "cell_type": "code",
   "execution_count": 151,
   "id": "c897bec9",
   "metadata": {},
   "outputs": [
    {
     "name": "stdout",
     "output_type": "stream",
     "text": [
      "3.1415926536\n",
      "3.1415926536\n"
     ]
    }
   ],
   "source": [
    "print(f'{pi:.10f}')\n",
    "print('{:.10f}'.format(pi))"
   ]
  },
  {
   "cell_type": "code",
   "execution_count": 152,
   "id": "3ea21e8f",
   "metadata": {},
   "outputs": [
    {
     "name": "stdout",
     "output_type": "stream",
     "text": [
      "3.141592654\n",
      "3.141592654\n"
     ]
    }
   ],
   "source": [
    "print(f'{pi:.10}')\n",
    "print('{:.10}'.format(pi))"
   ]
  }
 ],
 "metadata": {
  "kernelspec": {
   "display_name": "Python 3",
   "language": "python",
   "name": "python3"
  },
  "language_info": {
   "codemirror_mode": {
    "name": "ipython",
    "version": 3
   },
   "file_extension": ".py",
   "mimetype": "text/x-python",
   "name": "python",
   "nbconvert_exporter": "python",
   "pygments_lexer": "ipython3",
   "version": "3.8.8"
  }
 },
 "nbformat": 4,
 "nbformat_minor": 5
}
