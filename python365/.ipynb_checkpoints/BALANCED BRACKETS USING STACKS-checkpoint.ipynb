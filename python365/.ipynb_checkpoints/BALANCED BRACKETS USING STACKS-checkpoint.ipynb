{
 "cells": [
  {
   "cell_type": "code",
   "execution_count": 18,
   "id": "a37c0dc3",
   "metadata": {},
   "outputs": [],
   "source": [
    "# from StacksUsingList import *"
   ]
  },
  {
   "cell_type": "code",
   "execution_count": 19,
   "id": "da1dba34",
   "metadata": {},
   "outputs": [],
   "source": [
    "# st1=Stack()\n",
    "# st2=Stack()"
   ]
  },
  {
   "cell_type": "code",
   "execution_count": 37,
   "id": "c63c61ba",
   "metadata": {},
   "outputs": [
    {
     "data": {
      "text/plain": [
       "5"
      ]
     },
     "execution_count": 37,
     "metadata": {},
     "output_type": "execute_result"
    }
   ],
   "source": [
    "# st='[){)}'\n",
    "# len(st)\n"
   ]
  },
  {
   "cell_type": "code",
   "execution_count": 43,
   "id": "7cf48ed5",
   "metadata": {},
   "outputs": [
    {
     "name": "stdout",
     "output_type": "stream",
     "text": [
      "unbalanaced\n",
      "satisified\n",
      "unbalanaced\n",
      "satisified\n",
      "satisified\n"
     ]
    }
   ],
   "source": [
    "# for i in range(len(st)):\n",
    "#     for j in range(i,len(st)-i):\n",
    "#         if j==i:\n",
    "#             st2.push(st[i])\n",
    "#         else:\n",
    "#             st1.push(st[j])\n",
    "#     if st2.peek()==st1.peek():\n",
    "#         print('satisified')\n",
    "#     else:\n",
    "#         print('unbalanaced')\n",
    "#     st1=Stack()\n",
    "#     st2=Stack()\n",
    "\n",
    "# # st2.__repr__()\n",
    "# #     if st2.pop()==st1.pop():\n",
    "# #         continue\n",
    "# #     else:\n",
    "# #         print('UnBalanced')\n",
    "# #         break\n",
    "    "
   ]
  },
  {
   "cell_type": "code",
   "execution_count": 45,
   "id": "f4beb85f",
   "metadata": {},
   "outputs": [],
   "source": [
    "stn='[[{()}]]'\n",
    "stack=[]"
   ]
  },
  {
   "cell_type": "code",
   "execution_count": 51,
   "id": "82ce3cb1",
   "metadata": {},
   "outputs": [],
   "source": [
    "d={')':'(',']':']','{':'}'}"
   ]
  },
  {
   "cell_type": "code",
   "execution_count": null,
   "id": "1e7f7be0",
   "metadata": {},
   "outputs": [],
   "source": [
    "for char in stn:\n",
    "    if char not in d:\n",
    "        stack.append(char)\n",
    "    else:\n",
    "        if d[char]==stack[-1]:\n",
    "            stack.pop()\n",
    "        else:\n",
    "            return False\n",
    "if not stack:\n",
    "    return True\n",
    "else:\n",
    "    return False"
   ]
  }
 ],
 "metadata": {
  "kernelspec": {
   "display_name": "Python 3",
   "language": "python",
   "name": "python3"
  },
  "language_info": {
   "codemirror_mode": {
    "name": "ipython",
    "version": 3
   },
   "file_extension": ".py",
   "mimetype": "text/x-python",
   "name": "python",
   "nbconvert_exporter": "python",
   "pygments_lexer": "ipython3",
   "version": "3.8.8"
  }
 },
 "nbformat": 4,
 "nbformat_minor": 5
}
