{
 "cells": [
  {
   "cell_type": "code",
   "execution_count": 28,
   "id": "5a5e0803",
   "metadata": {},
   "outputs": [
    {
     "name": "stdout",
     "output_type": "stream",
     "text": [
      "[1, 1, 1, 1, 1, 1, 1, 1, 1, 1, 1, 1, 1, 1, 1, 1, 1, 1, 1, 1, 1, 1, 1, 1, 1, 1, 1, 1, 1, 1, 1, 1, 1, 1, 1, 1, 1, 1, 1, 1, 1, 1, 1, 1, 1, 1, 1, 1, 1, 1, 1, 1, 1, 1, 1, 1, 1, 1, 1, 1, 1, 1, 1, 1, 1, 1, 1, 1, 1, 1, 1, 1, 1, 1, 1, 1, 1, 1, 1, 1, 1, 1, 1, 1, 1, 1, 1, 1, 1, 1, 1, 1, 1, 1, 1, 1, 1, 1, 1, 1]\n"
     ]
    }
   ],
   "source": [
    "listy =[]\n",
    "for i in range(100):\n",
    "    listy.append(1)\n",
    "print(listy)"
   ]
  },
  {
   "cell_type": "code",
   "execution_count": 29,
   "id": "622160d5",
   "metadata": {},
   "outputs": [
    {
     "name": "stdout",
     "output_type": "stream",
     "text": [
      "50\n"
     ]
    }
   ],
   "source": [
    "ul=listy[1::2]\n",
    "print(len(ul))\n",
    "for i in range(len(ul)):\n",
    "    if ul[i]==1:\n",
    "        ul[i]=0\n",
    "    else:\n",
    "        ul[i]=1\n"
   ]
  },
  {
   "cell_type": "code",
   "execution_count": 30,
   "id": "12fcd224",
   "metadata": {},
   "outputs": [
    {
     "name": "stdout",
     "output_type": "stream",
     "text": [
      "[0, 0, 0, 0, 0, 0, 0, 0, 0, 0, 0, 0, 0, 0, 0, 0, 0, 0, 0, 0, 0, 0, 0, 0, 0, 0, 0, 0, 0, 0, 0, 0, 0, 0, 0, 0, 0, 0, 0, 0, 0, 0, 0, 0, 0, 0, 0, 0, 0, 0]\n"
     ]
    }
   ],
   "source": [
    "print(ul)"
   ]
  },
  {
   "cell_type": "code",
   "execution_count": 33,
   "id": "a5ad5d05",
   "metadata": {},
   "outputs": [],
   "source": [
    "listy[1::2]=ul"
   ]
  },
  {
   "cell_type": "markdown",
   "id": "b2b07ef8",
   "metadata": {},
   "source": [
    "function"
   ]
  },
  {
   "cell_type": "code",
   "execution_count": 109,
   "id": "c1a582ab",
   "metadata": {},
   "outputs": [],
   "source": [
    "def coin(n):\n",
    "    listy=[1]*n\n",
    "#     listy=[]\n",
    "#     for i in range(n):\n",
    "#         listy.append(1)\n",
    "    i=2\n",
    "    while i<=n:\n",
    "        \n",
    "        ul=listy[i-1::i]\n",
    "        for j in range(len(ul)):\n",
    "            ul[j]=1-ul[j]#this is much more optimized way of doing the same thing that below loop is doing.\n",
    "#             if ul[j]==1:\n",
    "#                 ul[j]=0\n",
    "#             else:\n",
    "#                 ul[j]=1\n",
    "        listy[i-1::i]=ul\n",
    "        i+=1\n",
    "    return listy"
   ]
  },
  {
   "cell_type": "code",
   "execution_count": 110,
   "id": "0025e104",
   "metadata": {},
   "outputs": [],
   "source": [
    "y=coin(10)"
   ]
  },
  {
   "cell_type": "code",
   "execution_count": 111,
   "id": "3af9db6b",
   "metadata": {},
   "outputs": [
    {
     "name": "stdout",
     "output_type": "stream",
     "text": [
      "[1, 0, 0, 1, 0, 0, 0, 0, 1, 0]\n"
     ]
    }
   ],
   "source": [
    "\n",
    "print(y)"
   ]
  },
  {
   "cell_type": "code",
   "execution_count": 97,
   "id": "5680ed2d",
   "metadata": {},
   "outputs": [
    {
     "name": "stdout",
     "output_type": "stream",
     "text": [
      "[1, 0, 0, 1, 0, 0, 0, 0, 1, 0]\n"
     ]
    }
   ],
   "source": [
    "x=coin(10)\n",
    "print(x)"
   ]
  },
  {
   "cell_type": "code",
   "execution_count": null,
   "id": "42a6ad06",
   "metadata": {},
   "outputs": [],
   "source": []
  },
  {
   "cell_type": "code",
   "execution_count": 73,
   "id": "0eeb07e1",
   "metadata": {},
   "outputs": [],
   "source": [
    "import matplotlib.pyplot as plt\n",
    "%matplotlib inline"
   ]
  },
  {
   "cell_type": "code",
   "execution_count": 90,
   "id": "73f6bd3b",
   "metadata": {},
   "outputs": [
    {
     "data": {
      "image/png": "[encoded data removed]",
      "text/plain": [
       "<Figure size 864x576 with 1 Axes>"
      ]
     },
     "metadata": {
      "needs_background": "light"
     },
     "output_type": "display_data"
    }
   ],
   "source": [
    "plt.rc('figure',figsize=(12,8))\n",
    "plt.plot(y)\n",
    "plt.xlim(0,10000)\n",
    "plt.ylim(0,1.0)\n",
    "plt.show()"
   ]
  },
  {
   "cell_type": "code",
   "execution_count": 98,
   "id": "f50b2a7d",
   "metadata": {},
   "outputs": [],
   "source": [
    "li=[1]*100"
   ]
  },
  {
   "cell_type": "code",
   "execution_count": 99,
   "id": "743c3e1c",
   "metadata": {},
   "outputs": [
    {
     "name": "stdout",
     "output_type": "stream",
     "text": [
      "[1, 1, 1, 1, 1, 1, 1, 1, 1, 1, 1, 1, 1, 1, 1, 1, 1, 1, 1, 1, 1, 1, 1, 1, 1, 1, 1, 1, 1, 1, 1, 1, 1, 1, 1, 1, 1, 1, 1, 1, 1, 1, 1, 1, 1, 1, 1, 1, 1, 1, 1, 1, 1, 1, 1, 1, 1, 1, 1, 1, 1, 1, 1, 1, 1, 1, 1, 1, 1, 1, 1, 1, 1, 1, 1, 1, 1, 1, 1, 1, 1, 1, 1, 1, 1, 1, 1, 1, 1, 1, 1, 1, 1, 1, 1, 1, 1, 1, 1, 1]\n"
     ]
    }
   ],
   "source": [
    "print(li)"
   ]
  }
 ],
 "metadata": {
  "kernelspec": {
   "display_name": "Python 3",
   "language": "python",
   "name": "python3"
  },
  "language_info": {
   "codemirror_mode": {
    "name": "ipython",
    "version": 3
   },
   "file_extension": ".py",
   "mimetype": "text/x-python",
   "name": "python",
   "nbconvert_exporter": "python",
   "pygments_lexer": "ipython3",
   "version": "3.8.8"
  }
 },
 "nbformat": 4,
 "nbformat_minor": 5
}
