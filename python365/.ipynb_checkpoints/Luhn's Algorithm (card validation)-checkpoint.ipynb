{
 "cells": [
  {
   "cell_type": "markdown",
   "id": "0ce14af0",
   "metadata": {},
   "source": [
    "Program to reverse the provided string."
   ]
  },
  {
   "cell_type": "code",
   "execution_count": 22,
   "id": "4c856b49",
   "metadata": {},
   "outputs": [],
   "source": [
    "stri=\"12345\"\n",
    "def reverse(mystr):\n",
    "    i=-1\n",
    "    rstr=''\n",
    "    while i>= -len(stri):\n",
    "        rstr= rstr+stri[i]\n",
    "        i=i-1\n",
    "    return rstr\n",
    "    \n",
    "\n"
   ]
  },
  {
   "cell_type": "code",
   "execution_count": 23,
   "id": "87e06e14",
   "metadata": {},
   "outputs": [
    {
     "data": {
      "text/plain": [
       "'54321'"
      ]
     },
     "execution_count": 23,
     "metadata": {},
     "output_type": "execute_result"
    }
   ],
   "source": [
    "reverse(stri)"
   ]
  },
  {
   "cell_type": "code",
   "execution_count": null,
   "id": "c387fa72",
   "metadata": {},
   "outputs": [],
   "source": []
  }
 ],
 "metadata": {
  "kernelspec": {
   "display_name": "Python 3",
   "language": "python",
   "name": "python3"
  },
  "language_info": {
   "codemirror_mode": {
    "name": "ipython",
    "version": 3
   },
   "file_extension": ".py",
   "mimetype": "text/x-python",
   "name": "python",
   "nbconvert_exporter": "python",
   "pygments_lexer": "ipython3",
   "version": "3.8.8"
  }
 },
 "nbformat": 4,
 "nbformat_minor": 5
}
