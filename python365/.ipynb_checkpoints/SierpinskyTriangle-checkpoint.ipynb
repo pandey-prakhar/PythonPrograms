{
 "cells": [
  {
   "cell_type": "markdown",
   "id": "188e1f95",
   "metadata": {},
   "source": [
    "raw code"
   ]
  },
  {
   "cell_type": "code",
   "execution_count": 2,
   "id": "9d2ba39f",
   "metadata": {},
   "outputs": [],
   "source": [
    "import matplotlib.pyplot as plt\n",
    "%matplotlib inline\n",
    "from random import choice\n"
   ]
  },
  {
   "cell_type": "code",
   "execution_count": 3,
   "id": "b56d6d8e",
   "metadata": {},
   "outputs": [],
   "source": [
    "#reference\n",
    "x=0\n",
    "y=0\n",
    "# eq1\n",
    "x1=x+3\n",
    "y1=y+1\n",
    "# eq2\n",
    "x2=x+1\n",
    "y2=y+3\n",
    "# eq3\n",
    "x3=x\n",
    "y3=y\n",
    "# list for choice of eqn.\n",
    "listy=[1,2,3]"
   ]
  },
  {
   "cell_type": "code",
   "execution_count": null,
   "id": "3056aca8",
   "metadata": {},
   "outputs": [],
   "source": [
    "in_val=int(input('Enter a number of iterations ')\n",
    "for i in range(len(in_val)):\n",
    "           ch=choice(listy)\n",
    "           if ch==1:\n",
    "               x1=x+3\n",
    "                y1=y+1\n",
    "           \n",
    "           \n",
    "    "
   ]
  }
 ],
 "metadata": {
  "kernelspec": {
   "display_name": "Python 3",
   "language": "python",
   "name": "python3"
  },
  "language_info": {
   "codemirror_mode": {
    "name": "ipython",
    "version": 3
   },
   "file_extension": ".py",
   "mimetype": "text/x-python",
   "name": "python",
   "nbconvert_exporter": "python",
   "pygments_lexer": "ipython3",
   "version": "3.8.8"
  }
 },
 "nbformat": 4,
 "nbformat_minor": 5
}
