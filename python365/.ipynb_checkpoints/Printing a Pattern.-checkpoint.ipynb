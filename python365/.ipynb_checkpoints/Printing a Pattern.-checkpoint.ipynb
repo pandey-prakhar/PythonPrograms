{
 "cells": [
  {
   "cell_type": "markdown",
   "id": "0b9514e2",
   "metadata": {},
   "source": [
    "Printing a pattern."
   ]
  },
  {
   "cell_type": "code",
   "execution_count": 47,
   "id": "1ffb82f8",
   "metadata": {},
   "outputs": [
    {
     "name": "stdout",
     "output_type": "stream",
     "text": [
      "enter the number of lines you want10\n",
      "*\n",
      "**\n",
      "***\n",
      "****\n",
      "*****\n",
      "******\n",
      "*******\n",
      "********\n",
      "*********\n",
      "**********\n"
     ]
    }
   ],
   "source": [
    "#a normal pattern printing asterisk.(Right angle)\n",
    "n=int(input('enter the number of lines you want'))\n",
    "for i in range(1,n+1):\n",
    "    \n",
    "    \n",
    "    print('*'*i)"
   ]
  },
  {
   "cell_type": "code",
   "execution_count": 48,
   "id": "5b73fb64",
   "metadata": {},
   "outputs": [
    {
     "name": "stdout",
     "output_type": "stream",
     "text": [
      "enter the number of lines you want10\n",
      "         *\n",
      "        **\n",
      "       ***\n",
      "      ****\n",
      "     *****\n",
      "    ******\n",
      "   *******\n",
      "  ********\n",
      " *********\n",
      "**********\n"
     ]
    }
   ],
   "source": [
    "#a normal pattern printing asterisk.(right side right triangle)\n",
    "m=int(input('enter the number of lines you want'))\n",
    "for i in range(1,m+1):\n",
    "    print(' '*(m-i), end ='')\n",
    "    print('*'*i)\n",
    "    "
   ]
  },
  {
   "cell_type": "code",
   "execution_count": 49,
   "id": "3b5b9557",
   "metadata": {},
   "outputs": [
    {
     "name": "stdout",
     "output_type": "stream",
     "text": [
      "enter the number of lines you want10\n",
      "          *\n",
      "         * *\n",
      "        * * *\n",
      "       * * * *\n",
      "      * * * * *\n",
      "     * * * * * *\n",
      "    * * * * * * *\n",
      "   * * * * * * * *\n",
      "  * * * * * * * * *\n",
      " * * * * * * * * * *\n"
     ]
    }
   ],
   "source": [
    "#a normal pattern printing asterisk.(right side right triangle)\n",
    "m=int(input('enter the number of lines you want'))\n",
    "for i in range(1,m+1):\n",
    "    print(' '*(m-i), end ='')\n",
    "    print(' *'*i)# put space in place of _ to print a clean triangle."
   ]
  },
  {
   "cell_type": "markdown",
   "id": "1eff1823",
   "metadata": {},
   "source": [
    "PRINTING PATTERN OF NUMBERS."
   ]
  },
  {
   "cell_type": "code",
   "execution_count": 61,
   "id": "3a04cb4c",
   "metadata": {},
   "outputs": [
    {
     "name": "stdout",
     "output_type": "stream",
     "text": [
      "enter the number of lines you want10\n",
      "\n",
      " 1\n",
      " 1 2\n",
      " 1 2 3\n",
      " 1 2 3 4\n",
      " 1 2 3 4 5\n",
      " 1 2 3 4 5 6\n",
      " 1 2 3 4 5 6 7\n",
      " 1 2 3 4 5 6 7 8\n",
      " 1 2 3 4 5 6 7 8 9\n",
      " 1 2 3 4 5 6 7 8 9 10"
     ]
    }
   ],
   "source": [
    "n=int(input('enter the number of lines you want'))\n",
    "for i in range(1,n+1):\n",
    "    print(\"\")\n",
    "    for j in range(1,i+1):\n",
    "        print(f' {j}', end=\"\")\n",
    "        "
   ]
  },
  {
   "cell_type": "code",
   "execution_count": 62,
   "id": "666c5d4b",
   "metadata": {},
   "outputs": [
    {
     "name": "stdout",
     "output_type": "stream",
     "text": [
      "enter the number of lines you want10\n",
      "\n",
      " 1\n",
      " 2 3\n",
      " 4 5 6\n",
      " 7 8 9 10\n",
      " 11 12 13 14 15\n",
      " 16 17 18 19 20 21\n",
      " 22 23 24 25 26 27 28\n",
      " 29 30 31 32 33 34 35 36\n",
      " 37 38 39 40 41 42 43 44 45\n",
      " 46 47 48 49 50 51 52 53 54 55"
     ]
    }
   ],
   "source": [
    "n=int(input('enter the number of lines you want'))\n",
    "k=1\n",
    "for i in range(1,n+1):\n",
    "    print(\"\")\n",
    "    for j in range(1,i+1):\n",
    "        print(f' {k}', end=\"\")\n",
    "        k+=1"
   ]
  }
 ],
 "metadata": {
  "kernelspec": {
   "display_name": "Python 3",
   "language": "python",
   "name": "python3"
  },
  "language_info": {
   "codemirror_mode": {
    "name": "ipython",
    "version": 3
   },
   "file_extension": ".py",
   "mimetype": "text/x-python",
   "name": "python",
   "nbconvert_exporter": "python",
   "pygments_lexer": "ipython3",
   "version": "3.8.8"
  }
 },
 "nbformat": 4,
 "nbformat_minor": 5
}
