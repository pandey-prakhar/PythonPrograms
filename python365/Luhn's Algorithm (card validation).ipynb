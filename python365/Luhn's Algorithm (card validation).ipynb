{
 "cells": [
  {
   "cell_type": "markdown",
   "id": "b7586bcc",
   "metadata": {},
   "source": [
    "Program to reverse the provided string."
   ]
  },
  {
   "cell_type": "code",
   "execution_count": 55,
   "id": "436c41ee",
   "metadata": {},
   "outputs": [],
   "source": [
    "# 1st\n",
    "# stri=\"12345\"\n",
    "# def reverse(mystr):\n",
    "#     i=-1\n",
    "#     rstr=''\n",
    "#     while i>= -len(stri):\n",
    "#         rstr= rstr+stri[i]\n",
    "#         i=i-1\n",
    "#     return rstr\n",
    "\n",
    "    \n",
    "\n"
   ]
  },
  {
   "cell_type": "code",
   "execution_count": 54,
   "id": "82f51bb6",
   "metadata": {},
   "outputs": [
    {
     "data": {
      "text/plain": [
       "'irts'"
      ]
     },
     "execution_count": 54,
     "metadata": {},
     "output_type": "execute_result"
    }
   ],
   "source": [
    "# reverse('stri')"
   ]
  },
  {
   "cell_type": "code",
   "execution_count": 70,
   "id": "108e8606",
   "metadata": {},
   "outputs": [],
   "source": [
    "# 2nd method\n",
    "def revers(mystr):\n",
    "    \n",
    "    m=mystr[::-1]\n",
    "\n",
    "    return(m)"
   ]
  },
  {
   "cell_type": "code",
   "execution_count": 71,
   "id": "b3932ea2",
   "metadata": {
    "collapsed": true
   },
   "outputs": [
    {
     "data": {
      "text/plain": [
       "'irts'"
      ]
     },
     "execution_count": 71,
     "metadata": {},
     "output_type": "execute_result"
    }
   ],
   "source": [
    "revers('stri')\n",
    "\n"
   ]
  },
  {
   "cell_type": "markdown",
   "id": "6316c7d3",
   "metadata": {},
   "source": [
    "luhn's Algoruthm"
   ]
  },
  {
   "cell_type": "code",
   "execution_count": 125,
   "id": "50ab6336",
   "metadata": {},
   "outputs": [],
   "source": [
    "def card_valid(card):\n",
    "    sums=0\n",
    "    rcard=card[::-1]\n",
    "    i=1\n",
    "    \n",
    "    while i<= len(rcard):\n",
    "        s=int(rcard[i-1])\n",
    "        if i%2==0:\n",
    "            s=s*2\n",
    "            if s>=10:\n",
    "                \n",
    "#                 sums=sums+(s//10)+(s%10)\n",
    "                sums=sums+(s-9)\n",
    "            else:\n",
    "                sums+=s\n",
    "            i+=1\n",
    "        else:\n",
    "            sums+=s\n",
    "            i+=1\n",
    "    if sums%10==0:\n",
    "        return True\n",
    "    else:\n",
    "        return False\n",
    "        \n",
    "            \n",
    "        "
   ]
  },
  {
   "cell_type": "code",
   "execution_count": 132,
   "id": "7d7d6e7a",
   "metadata": {},
   "outputs": [],
   "source": [
    "car='4389760037593037'"
   ]
  },
  {
   "cell_type": "code",
   "execution_count": 133,
   "id": "a9071f79",
   "metadata": {},
   "outputs": [
    {
     "data": {
      "text/plain": [
       "True"
      ]
     },
     "execution_count": 133,
     "metadata": {},
     "output_type": "execute_result"
    }
   ],
   "source": [
    "card_valid(car)"
   ]
  },
  {
   "cell_type": "code",
   "execution_count": 93,
   "id": "1d68c5e9",
   "metadata": {},
   "outputs": [],
   "source": [
    "k='1234'"
   ]
  },
  {
   "cell_type": "markdown",
   "id": "ef725ac5",
   "metadata": {},
   "source": [
    "Program to print a pattern.\n"
   ]
  },
  {
   "cell_type": "code",
   "execution_count": 145,
   "id": "194cdf82",
   "metadata": {},
   "outputs": [
    {
     "name": "stdout",
     "output_type": "stream",
     "text": [
      "enter the number of lines you want5\n",
      " *\n",
      " * *\n",
      " * * *\n",
      " * * * *\n",
      " * * * * *\n"
     ]
    }
   ],
   "source": [
    "n=int(input('enter the number of lines you want'))\n",
    "for i in range(1,n+1):\n",
    "    \n",
    "        print(' *'*i)"
   ]
  }
 ],
 "metadata": {
  "kernelspec": {
   "display_name": "Python 3",
   "language": "python",
   "name": "python3"
  },
  "language_info": {
   "codemirror_mode": {
    "name": "ipython",
    "version": 3
   },
   "file_extension": ".py",
   "mimetype": "text/x-python",
   "name": "python",
   "nbconvert_exporter": "python",
   "pygments_lexer": "ipython3",
   "version": "3.8.8"
  }
 },
 "nbformat": 4,
 "nbformat_minor": 5
}
