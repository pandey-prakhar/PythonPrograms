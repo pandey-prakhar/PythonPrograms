{
 "cells": [
  {
   "cell_type": "code",
   "execution_count": 28,
   "id": "ccc663b9",
   "metadata": {},
   "outputs": [
    {
     "name": "stdout",
     "output_type": "stream",
     "text": [
      "[1, 1, 1, 1, 1, 1, 1, 1, 1, 1, 1, 1, 1, 1, 1, 1, 1, 1, 1, 1, 1, 1, 1, 1, 1, 1, 1, 1, 1, 1, 1, 1, 1, 1, 1, 1, 1, 1, 1, 1, 1, 1, 1, 1, 1, 1, 1, 1, 1, 1, 1, 1, 1, 1, 1, 1, 1, 1, 1, 1, 1, 1, 1, 1, 1, 1, 1, 1, 1, 1, 1, 1, 1, 1, 1, 1, 1, 1, 1, 1, 1, 1, 1, 1, 1, 1, 1, 1, 1, 1, 1, 1, 1, 1, 1, 1, 1, 1, 1, 1]\n"
     ]
    }
   ],
   "source": [
    "listy =[]\n",
    "for i in range(100):\n",
    "    listy.append(1)\n",
    "print(listy)"
   ]
  },
  {
   "cell_type": "code",
   "execution_count": 29,
   "id": "374b0784",
   "metadata": {},
   "outputs": [
    {
     "name": "stdout",
     "output_type": "stream",
     "text": [
      "50\n"
     ]
    }
   ],
   "source": [
    "ul=listy[1::2]\n",
    "print(len(ul))\n",
    "for i in range(len(ul)):\n",
    "    if ul[i]==1:\n",
    "        ul[i]=0\n",
    "    else:\n",
    "        ul[i]=1\n"
   ]
  },
  {
   "cell_type": "code",
   "execution_count": 30,
   "id": "05f6797a",
   "metadata": {},
   "outputs": [
    {
     "name": "stdout",
     "output_type": "stream",
     "text": [
      "[0, 0, 0, 0, 0, 0, 0, 0, 0, 0, 0, 0, 0, 0, 0, 0, 0, 0, 0, 0, 0, 0, 0, 0, 0, 0, 0, 0, 0, 0, 0, 0, 0, 0, 0, 0, 0, 0, 0, 0, 0, 0, 0, 0, 0, 0, 0, 0, 0, 0]\n"
     ]
    }
   ],
   "source": [
    "print(ul)"
   ]
  },
  {
   "cell_type": "code",
   "execution_count": 33,
   "id": "1c5636d0",
   "metadata": {},
   "outputs": [],
   "source": [
    "listy[1::2]=ul"
   ]
  },
  {
   "cell_type": "markdown",
   "id": "8ddcf86b",
   "metadata": {},
   "source": [
    "function"
   ]
  },
  {
   "cell_type": "code",
   "execution_count": 130,
   "id": "679ea0b2",
   "metadata": {},
   "outputs": [],
   "source": [
    "def coin(n):\n",
    "    listy=[1]*n\n",
    "#     listy=[]\n",
    "#     for i in range(n):\n",
    "#         listy.append(1)\n",
    "    i=2\n",
    "    while i<=n:\n",
    "        \n",
    "        ul=listy[i-1::i]\n",
    "        for j in range(len(ul)):\n",
    "            ul[j]=1-ul[j]#this is much more optimized way of doing the same thing that below loop is doing.\n",
    "#             if ul[j]==1:\n",
    "#                 ul[j]=0\n",
    "#             else:\n",
    "#                 ul[j]=1\n",
    "        listy[i-1::i]=ul\n",
    "        i+=1\n",
    "    return listy"
   ]
  },
  {
   "cell_type": "code",
   "execution_count": 140,
   "id": "41477346",
   "metadata": {},
   "outputs": [],
   "source": [
    "y=coin(100)"
   ]
  },
  {
   "cell_type": "code",
   "execution_count": 141,
   "id": "289c05e7",
   "metadata": {},
   "outputs": [],
   "source": [
    "dic={}\n",
    "for i,v in enumerate(y):\n",
    "    if v!=0:\n",
    "        dic[i+1]=v"
   ]
  },
  {
   "cell_type": "code",
   "execution_count": 142,
   "id": "1e6d4597",
   "metadata": {},
   "outputs": [
    {
     "data": {
      "text/plain": [
       "{1: 1, 4: 1, 9: 1, 16: 1, 25: 1, 36: 1, 49: 1, 64: 1, 81: 1, 100: 1}"
      ]
     },
     "execution_count": 142,
     "metadata": {},
     "output_type": "execute_result"
    }
   ],
   "source": [
    "dic"
   ]
  },
  {
   "cell_type": "code",
   "execution_count": 143,
   "id": "a9f3ee30",
   "metadata": {},
   "outputs": [
    {
     "data": {
      "text/plain": [
       "[1, 4, 9, 16, 25, 36, 49, 64, 81, 100]"
      ]
     },
     "execution_count": 143,
     "metadata": {},
     "output_type": "execute_result"
    }
   ],
   "source": [
    "nl=[]\n",
    "for k,v in dic.items():\n",
    "    nl.append(k)\n",
    "    \n",
    "nl"
   ]
  },
  {
   "cell_type": "code",
   "execution_count": 144,
   "id": "aa4f3049",
   "metadata": {},
   "outputs": [
    {
     "data": {
      "text/plain": [
       "[1.0, 2.0, 3.0, 4.0, 5.0, 6.0, 7.0, 8.0, 9.0, 10.0]"
      ]
     },
     "execution_count": 144,
     "metadata": {},
     "output_type": "execute_result"
    }
   ],
   "source": [
    "import math\n",
    "nl2=[math.sqrt(nu) for nu in nl]\n",
    "nl2"
   ]
  },
  {
   "cell_type": "code",
   "execution_count": 73,
   "id": "e07661f4",
   "metadata": {},
   "outputs": [],
   "source": [
    "import matplotlib.pyplot as plt\n",
    "%matplotlib inline"
   ]
  },
  {
   "cell_type": "code",
   "execution_count": 127,
   "id": "56e6bf7e",
   "metadata": {},
   "outputs": [
    {
     "data": {
      "text/plain": [
       "<BarContainer object of 31 artists>"
      ]
     },
     "execution_count": 127,
     "metadata": {},
     "output_type": "execute_result"
    },
    {
     "data": {
      "image/png": "[encoded data removed]",
      "text/plain": [
       "<Figure size 864x576 with 1 Axes>"
      ]
     },
     "metadata": {
      "needs_background": "light"
     },
     "output_type": "display_data"
    }
   ],
   "source": [
    "plt.rc('figure',figsize=(12,8))\n",
    "plt.bar(x,y)\n"
   ]
  },
  {
   "cell_type": "code",
   "execution_count": 98,
   "id": "ac70dde6",
   "metadata": {},
   "outputs": [],
   "source": [
    "li=[1]*100"
   ]
  },
  {
   "cell_type": "code",
   "execution_count": 99,
   "id": "a6419fe6",
   "metadata": {},
   "outputs": [
    {
     "name": "stdout",
     "output_type": "stream",
     "text": [
      "[1, 1, 1, 1, 1, 1, 1, 1, 1, 1, 1, 1, 1, 1, 1, 1, 1, 1, 1, 1, 1, 1, 1, 1, 1, 1, 1, 1, 1, 1, 1, 1, 1, 1, 1, 1, 1, 1, 1, 1, 1, 1, 1, 1, 1, 1, 1, 1, 1, 1, 1, 1, 1, 1, 1, 1, 1, 1, 1, 1, 1, 1, 1, 1, 1, 1, 1, 1, 1, 1, 1, 1, 1, 1, 1, 1, 1, 1, 1, 1, 1, 1, 1, 1, 1, 1, 1, 1, 1, 1, 1, 1, 1, 1, 1, 1, 1, 1, 1, 1]\n"
     ]
    }
   ],
   "source": [
    "print(li)"
   ]
  }
 ],
 "metadata": {
  "kernelspec": {
   "display_name": "Python 3",
   "language": "python",
   "name": "python3"
  },
  "language_info": {
   "codemirror_mode": {
    "name": "ipython",
    "version": 3
   },
   "file_extension": ".py",
   "mimetype": "text/x-python",
   "name": "python",
   "nbconvert_exporter": "python",
   "pygments_lexer": "ipython3",
   "version": "3.8.8"
  }
 },
 "nbformat": 4,
 "nbformat_minor": 5
}
