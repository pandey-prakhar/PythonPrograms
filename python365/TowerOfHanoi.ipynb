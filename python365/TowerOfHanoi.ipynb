{
 "cells": [
  {
   "cell_type": "markdown",
   "id": "d76ef1f0",
   "metadata": {},
   "source": [
    "IN TOWERS OF HANOI WE NEED TO TRANSFER ALL THE ELEMENTS OF STACK A TO C USING HELP OF B. BUT THERE'S A CATCH , YOU CANNOT PUT BIGGER DISKS ON SMALLER ONES AND YOU CAN TRANSFER A BRICK AT A TIME."
   ]
  },
  {
   "cell_type": "code",
   "execution_count": 19,
   "id": "3d127d91",
   "metadata": {},
   "outputs": [],
   "source": [
    "a=[4,3,2,1]\n",
    "b=[]\n",
    "c=[]\n",
    "count=0"
   ]
  },
  {
   "cell_type": "code",
   "execution_count": 20,
   "id": "1801b270",
   "metadata": {},
   "outputs": [],
   "source": [
    "def hanoi(a,b,c,n):\n",
    "    global count\n",
    "    \n",
    "    if n==1:\n",
    "        disk=a.pop()\n",
    "        c.append(disk)\n",
    "        count+=1\n",
    "    else:\n",
    "        hanoi(a,c,b,n-1)\n",
    "        hanoi(a,b,c,1)\n",
    "        hanoi(b,a,c,n-1)\n",
    "    return(count)"
   ]
  },
  {
   "cell_type": "code",
   "execution_count": 21,
   "id": "ea19d986",
   "metadata": {},
   "outputs": [
    {
     "data": {
      "text/plain": [
       "15"
      ]
     },
     "execution_count": 21,
     "metadata": {},
     "output_type": "execute_result"
    }
   ],
   "source": [
    "hanoi(a,b,c,4)"
   ]
  },
  {
   "cell_type": "code",
   "execution_count": null,
   "id": "36972087",
   "metadata": {},
   "outputs": [],
   "source": []
  }
 ],
 "metadata": {
  "kernelspec": {
   "display_name": "Python 3",
   "language": "python",
   "name": "python3"
  },
  "language_info": {
   "codemirror_mode": {
    "name": "ipython",
    "version": 3
   },
   "file_extension": ".py",
   "mimetype": "text/x-python",
   "name": "python",
   "nbconvert_exporter": "python",
   "pygments_lexer": "ipython3",
   "version": "3.8.8"
  }
 },
 "nbformat": 4,
 "nbformat_minor": 5
}
