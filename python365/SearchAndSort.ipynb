{
 "cells": [
  {
   "cell_type": "markdown",
   "id": "2921fe10",
   "metadata": {},
   "source": [
    "linear search"
   ]
  },
  {
   "cell_type": "code",
   "execution_count": 1,
   "id": "9e06ee61",
   "metadata": {},
   "outputs": [],
   "source": [
    "# using while loop.it is more efficient as it stops when item is found"
   ]
  },
  {
   "cell_type": "code",
   "execution_count": 7,
   "id": "2415a15a",
   "metadata": {},
   "outputs": [],
   "source": [
    "# def linear_search(item,mylist):\n",
    "#     i=0\n",
    "#     found=False\n",
    "#     while i<len(mylist) and found==False:\n",
    "#         if mylist[i]==item:\n",
    "#             found=True\n",
    "#         else:\n",
    "#             i+=1\n",
    "#     return found"
   ]
  },
  {
   "cell_type": "code",
   "execution_count": 14,
   "id": "5198a078",
   "metadata": {
    "collapsed": true
   },
   "outputs": [
    {
     "name": "stdout",
     "output_type": "stream",
     "text": [
      "True\n",
      "False\n"
     ]
    }
   ],
   "source": [
    "# ml=[5,3,4,7,9,8]\n",
    "# print(linear_search(9,ml))\n",
    "# print(linear_search(1,ml))"
   ]
  },
  {
   "cell_type": "code",
   "execution_count": 15,
   "id": "b203e2e5",
   "metadata": {},
   "outputs": [],
   "source": [
    "# using for loop"
   ]
  },
  {
   "cell_type": "code",
   "execution_count": 31,
   "id": "53483f18",
   "metadata": {},
   "outputs": [],
   "source": [
    "# def linear_search(item,my_list):\n",
    "#     print(len(my_list))\n",
    "#     found=False\n",
    "#     for i in range(len(my_list)):\n",
    "#         if my_list[i]==item:\n",
    "#             print(i)\n",
    "#             found=True\n",
    "# #         else:\n",
    "# #             print('check')\n",
    "#     return found\n",
    "            \n",
    "        "
   ]
  },
  {
   "cell_type": "code",
   "execution_count": 34,
   "id": "27a8f360",
   "metadata": {
    "collapsed": true
   },
   "outputs": [
    {
     "name": "stdout",
     "output_type": "stream",
     "text": [
      "7\n",
      "0\n",
      "2\n",
      "True\n"
     ]
    }
   ],
   "source": [
    "# ml=[5,3,5,4,7,9,8]\n",
    "# print(linear_search(5,ml))\n",
    "# # print(linear_search(1,ml))"
   ]
  },
  {
   "cell_type": "markdown",
   "id": "7dccc678",
   "metadata": {},
   "source": [
    "Binary Search"
   ]
  },
  {
   "cell_type": "code",
   "execution_count": 3,
   "id": "07572bad",
   "metadata": {},
   "outputs": [],
   "source": [
    "# def binary_search(item,mylist):\n",
    "#     found=False\n",
    "#     first=0\n",
    "#     last=len(mylist)-1\n",
    "#     while first<=last and found==False:\n",
    "#         middle=(first+last)//2\n",
    "#         if item==mylist[middle]:\n",
    "#             found=True\n",
    "#         else:\n",
    "#             if item>mylist[middle]:\n",
    "#                 first=middle+1\n",
    "#             else:\n",
    "#                 last=middle-1\n",
    "#     return found"
   ]
  },
  {
   "cell_type": "code",
   "execution_count": 5,
   "id": "9ead08a0",
   "metadata": {},
   "outputs": [
    {
     "name": "stdout",
     "output_type": "stream",
     "text": [
      "True\n",
      "False\n"
     ]
    }
   ],
   "source": [
    "# ml=[3,4,5,6,7,8,9]\n",
    "# r=binary_search(5,ml)\n",
    "# print(r)\n",
    "# print(binary_search(1,ml))"
   ]
  },
  {
   "cell_type": "markdown",
   "id": "0a8eb617",
   "metadata": {},
   "source": [
    "INSERTION SORT"
   ]
  },
  {
   "cell_type": "code",
   "execution_count": 5,
   "id": "9ceac3e7",
   "metadata": {},
   "outputs": [],
   "source": [
    "def insertion_sort(listy):\n",
    "    n=len(listy)\n",
    "    for i in range(n):\n",
    "        j=i\n",
    "        value=listy[i]\n",
    "        while j>0 and listy[j-1]>value:\n",
    "            listy[j]=listy[j-1]\n",
    "            j=j-1\n",
    "        listy[j]=value\n",
    "    return listy"
   ]
  },
  {
   "cell_type": "code",
   "execution_count": 6,
   "id": "28d58f2d",
   "metadata": {},
   "outputs": [
    {
     "data": {
      "text/plain": [
       "[3, 4, 5, 5, 7, 8, 9]"
      ]
     },
     "execution_count": 6,
     "metadata": {},
     "output_type": "execute_result"
    }
   ],
   "source": [
    "ml=[5,3,5,4,7,9,8]\n",
    "insertion_sort(ml)"
   ]
  },
  {
   "cell_type": "code",
   "execution_count": 82,
   "id": "06aab682",
   "metadata": {},
   "outputs": [],
   "source": [
    "def insertion_sort(listy):\n",
    "    n=len(listy)\n",
    "    for i in range(1,n):\n",
    "        j=i\n",
    "        value=listy[i]\n",
    "        while j>0 and listy[j-1]>value:\n",
    "            listy[j]=listy[j-1]\n",
    "            j=j-1\n",
    "        listy[j]=value\n",
    "    return listy"
   ]
  },
  {
   "cell_type": "code",
   "execution_count": 83,
   "id": "eb199c9c",
   "metadata": {},
   "outputs": [
    {
     "data": {
      "text/plain": [
       "[0, 0, 1, 1, 2, 2]"
      ]
     },
     "execution_count": 83,
     "metadata": {},
     "output_type": "execute_result"
    }
   ],
   "source": [
    "nums = [2,0,2,1,1,0]\n",
    "insertion_sort(nums)"
   ]
  },
  {
   "cell_type": "markdown",
   "id": "c0641005",
   "metadata": {},
   "source": [
    "#Shell Sort\n",
    "algorithm:\n",
    "ShellSort is mainly a variation of Insertion Sort. In insertion sort, we move elements only one position ahead. When an element has to be moved far ahead, many movements are involved. The idea of shellSort is to allow exchange of far items. In shellSort, we make the array h-sorted for a large value of h. We keep reducing the value of h until it becomes 1. An array is said to be h-sorted if all sublists of every h’th element is sorted.\n",
    "\n",
    "Following is the implementation of ShellSort\n"
   ]
  },
  {
   "cell_type": "code",
   "execution_count": 97,
   "id": "8d607295",
   "metadata": {},
   "outputs": [],
   "source": [
    "def shell_sort(arr):\n",
    "    \n",
    "    gap=(len(arr)//2)+1\n",
    "\n",
    "        \n",
    "    \n",
    "    while gap>0:\n",
    "        j=0\n",
    "        while j+gap<len(arr):\n",
    "            if arr[j]>arr[j+gap]:\n",
    "                arr[j],arr[j+gap]=arr[j+gap],arr[j]\n",
    "            j+=1\n",
    "            k=j\n",
    "            while k-gap>-1:\n",
    "                if arr[k-gap]>arr[k]:\n",
    "                    arr[k],arr[k-gap]=arr[k-gap],arr[k]\n",
    "                k-=1\n",
    "                    \n",
    "        gap=gap//2\n"
   ]
  },
  {
   "cell_type": "code",
   "execution_count": 98,
   "id": "3be2111a",
   "metadata": {},
   "outputs": [
    {
     "data": {
      "text/plain": [
       "[3, 3, 3, 3, 4, 4, 4, 4, 4, 5, 5, 5, 5, 6, 52, 53]"
      ]
     },
     "execution_count": 98,
     "metadata": {},
     "output_type": "execute_result"
    }
   ],
   "source": [
    "arr=[5,4,6,3,5,3,52,3,4,53,5,4,3,4,4,5]\n",
    "shell_sort(arr)\n",
    "arr"
   ]
  },
  {
   "cell_type": "code",
   "execution_count": 75,
   "id": "79ff1260",
   "metadata": {},
   "outputs": [
    {
     "name": "stdout",
     "output_type": "stream",
     "text": [
      "input array: [12, 34, 54, 2, 3]\n",
      "sorted array [2, 3, 12, 34, 54]\n"
     ]
    }
   ],
   "source": [
    "# Python3 program for implementation of Shell Sort\n",
    "\n",
    "def shellSort(arr):\n",
    "\tgap = len(arr) // 2 # initialize the gap\n",
    "\n",
    "\twhile gap > 0:\n",
    "\t\ti = 0\n",
    "\t\tj = gap\n",
    "\t\t\n",
    "\t\t# check the array in from left to right\n",
    "\t\t# till the last possible index of j\n",
    "\t\twhile j < len(arr):\n",
    "\t\n",
    "\t\t\tif arr[i] >arr[j]:\n",
    "\t\t\t\tarr[i],arr[j] = arr[j],arr[i]\n",
    "\t\t\t\n",
    "\t\t\ti += 1\n",
    "\t\t\tj += 1\n",
    "\t\t\n",
    "\t\t\t# now, we look back from ith index to the left\n",
    "\t\t\t# we swap the values which are not in the right order.\n",
    "\t\t\tk = i\n",
    "\t\t\twhile k - gap > -1:\n",
    "\n",
    "\t\t\t\tif arr[k - gap] > arr[k]:\n",
    "\t\t\t\t\tarr[k-gap],arr[k] = arr[k],arr[k-gap]\n",
    "\t\t\t\tk -= 1\n",
    "\n",
    "\t\tgap //= 2\n",
    "\n",
    "\n",
    "# driver to check the code\n",
    "arr2 = [12, 34, 54, 2, 3]\n",
    "print(\"input array:\",arr2)\n",
    "\n",
    "shellSort(arr2)\n",
    "print(\"sorted array\",arr2)\n",
    "\n",
    "# This code is contributed by Shubham Prashar (SirPrashar)\n"
   ]
  },
  {
   "cell_type": "code",
   "execution_count": 76,
   "id": "6f067c27",
   "metadata": {},
   "outputs": [
    {
     "data": {
      "text/plain": [
       "[3, 3, 4, 5, 5, 5, 6]"
      ]
     },
     "execution_count": 76,
     "metadata": {},
     "output_type": "execute_result"
    }
   ],
   "source": [
    "arr=[5,4,6,3,5,3,5]\n",
    "shellSort(arr)\n",
    "arr"
   ]
  }
 ],
 "metadata": {
  "kernelspec": {
   "display_name": "Python 3",
   "language": "python",
   "name": "python3"
  },
  "language_info": {
   "codemirror_mode": {
    "name": "ipython",
    "version": 3
   },
   "file_extension": ".py",
   "mimetype": "text/x-python",
   "name": "python",
   "nbconvert_exporter": "python",
   "pygments_lexer": "ipython3",
   "version": "3.8.8"
  }
 },
 "nbformat": 4,
 "nbformat_minor": 5
}
