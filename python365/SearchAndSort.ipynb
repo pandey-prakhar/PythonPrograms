{
 "cells": [
  {
   "cell_type": "markdown",
   "id": "2921fe10",
   "metadata": {},
   "source": [
    "linear search"
   ]
  },
  {
   "cell_type": "code",
   "execution_count": 1,
   "id": "9e06ee61",
   "metadata": {},
   "outputs": [],
   "source": [
    "# using while loop.it is more efficient as it stops when item is found"
   ]
  },
  {
   "cell_type": "code",
   "execution_count": 7,
   "id": "2415a15a",
   "metadata": {},
   "outputs": [],
   "source": [
    "# def linear_search(item,mylist):\n",
    "#     i=0\n",
    "#     found=False\n",
    "#     while i<len(mylist) and found==False:\n",
    "#         if mylist[i]==item:\n",
    "#             found=True\n",
    "#         else:\n",
    "#             i+=1\n",
    "#     return found"
   ]
  },
  {
   "cell_type": "code",
   "execution_count": 14,
   "id": "5198a078",
   "metadata": {
    "collapsed": true
   },
   "outputs": [
    {
     "name": "stdout",
     "output_type": "stream",
     "text": [
      "True\n",
      "False\n"
     ]
    }
   ],
   "source": [
    "# ml=[5,3,4,7,9,8]\n",
    "# print(linear_search(9,ml))\n",
    "# print(linear_search(1,ml))"
   ]
  },
  {
   "cell_type": "code",
   "execution_count": 15,
   "id": "b203e2e5",
   "metadata": {},
   "outputs": [],
   "source": [
    "# using for loop"
   ]
  },
  {
   "cell_type": "code",
   "execution_count": 31,
   "id": "53483f18",
   "metadata": {},
   "outputs": [],
   "source": [
    "# def linear_search(item,my_list):\n",
    "#     print(len(my_list))\n",
    "#     found=False\n",
    "#     for i in range(len(my_list)):\n",
    "#         if my_list[i]==item:\n",
    "#             print(i)\n",
    "#             found=True\n",
    "# #         else:\n",
    "# #             print('check')\n",
    "#     return found\n",
    "            \n",
    "        "
   ]
  },
  {
   "cell_type": "code",
   "execution_count": 34,
   "id": "27a8f360",
   "metadata": {
    "collapsed": true
   },
   "outputs": [
    {
     "name": "stdout",
     "output_type": "stream",
     "text": [
      "7\n",
      "0\n",
      "2\n",
      "True\n"
     ]
    }
   ],
   "source": [
    "# ml=[5,3,5,4,7,9,8]\n",
    "# print(linear_search(5,ml))\n",
    "# # print(linear_search(1,ml))"
   ]
  },
  {
   "cell_type": "markdown",
   "id": "7dccc678",
   "metadata": {},
   "source": [
    "Binary Search"
   ]
  },
  {
   "cell_type": "code",
   "execution_count": 3,
   "id": "07572bad",
   "metadata": {},
   "outputs": [],
   "source": [
    "# def binary_search(item,mylist):\n",
    "#     found=False\n",
    "#     first=0\n",
    "#     last=len(mylist)-1\n",
    "#     while first<=last and found==False:\n",
    "#         middle=(first+last)//2\n",
    "#         if item==mylist[middle]:\n",
    "#             found=True\n",
    "#         else:\n",
    "#             if item>mylist[middle]:\n",
    "#                 first=middle+1\n",
    "#             else:\n",
    "#                 last=middle-1\n",
    "#     return found"
   ]
  },
  {
   "cell_type": "code",
   "execution_count": 5,
   "id": "9ead08a0",
   "metadata": {},
   "outputs": [
    {
     "name": "stdout",
     "output_type": "stream",
     "text": [
      "True\n",
      "False\n"
     ]
    }
   ],
   "source": [
    "# ml=[3,4,5,6,7,8,9]\n",
    "# r=binary_search(5,ml)\n",
    "# print(r)\n",
    "# print(binary_search(1,ml))"
   ]
  },
  {
   "cell_type": "markdown",
   "id": "0a8eb617",
   "metadata": {},
   "source": [
    "INSERTION SORT"
   ]
  },
  {
   "cell_type": "code",
   "execution_count": 6,
   "id": "9ceac3e7",
   "metadata": {},
   "outputs": [],
   "source": [
    "def insertion_sort(listy):\n",
    "    n=len(listy)\n",
    "    for i in range(n):\n",
    "        j=i\n",
    "        value=listy[i]\n",
    "        while j>0 and listy[j-1]>value:\n",
    "            listy[j]=listy[j-1]\n",
    "            j=j-1\n",
    "        listy[j]=value\n",
    "    return listy"
   ]
  },
  {
   "cell_type": "code",
   "execution_count": 7,
   "id": "28d58f2d",
   "metadata": {},
   "outputs": [
    {
     "data": {
      "text/plain": [
       "[3, 4, 5, 5, 7, 8, 9]"
      ]
     },
     "execution_count": 7,
     "metadata": {},
     "output_type": "execute_result"
    }
   ],
   "source": [
    "ml=[5,3,5,4,7,9,8]\n",
    "insertion_sort(ml)"
   ]
  }
 ],
 "metadata": {
  "kernelspec": {
   "display_name": "Python 3",
   "language": "python",
   "name": "python3"
  },
  "language_info": {
   "codemirror_mode": {
    "name": "ipython",
    "version": 3
   },
   "file_extension": ".py",
   "mimetype": "text/x-python",
   "name": "python",
   "nbconvert_exporter": "python",
   "pygments_lexer": "ipython3",
   "version": "3.8.8"
  }
 },
 "nbformat": 4,
 "nbformat_minor": 5
}
