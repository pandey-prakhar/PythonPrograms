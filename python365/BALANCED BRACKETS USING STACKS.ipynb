{
 "cells": [
  {
   "cell_type": "code",
   "execution_count": 18,
   "id": "a37c0dc3",
   "metadata": {},
   "outputs": [],
   "source": [
    "# from StacksUsingList import *"
   ]
  },
  {
   "cell_type": "code",
   "execution_count": 19,
   "id": "da1dba34",
   "metadata": {},
   "outputs": [],
   "source": [
    "# st1=Stack()\n",
    "# st2=Stack()"
   ]
  },
  {
   "cell_type": "code",
   "execution_count": 37,
   "id": "c63c61ba",
   "metadata": {},
   "outputs": [
    {
     "data": {
      "text/plain": [
       "5"
      ]
     },
     "execution_count": 37,
     "metadata": {},
     "output_type": "execute_result"
    }
   ],
   "source": [
    "# st='[){)}'\n",
    "# len(st)\n"
   ]
  },
  {
   "cell_type": "code",
   "execution_count": 43,
   "id": "7cf48ed5",
   "metadata": {},
   "outputs": [
    {
     "name": "stdout",
     "output_type": "stream",
     "text": [
      "unbalanaced\n",
      "satisified\n",
      "unbalanaced\n",
      "satisified\n",
      "satisified\n"
     ]
    }
   ],
   "source": [
    "# for i in range(len(st)):\n",
    "#     for j in range(i,len(st)-i):\n",
    "#         if j==i:\n",
    "#             st2.push(st[i])\n",
    "#         else:\n",
    "#             st1.push(st[j])\n",
    "#     if st2.peek()==st1.peek():\n",
    "#         print('satisified')\n",
    "#     else:\n",
    "#         print('unbalanaced')\n",
    "#     st1=Stack()\n",
    "#     st2=Stack()\n",
    "\n",
    "# # st2.__repr__()\n",
    "# #     if st2.pop()==st1.pop():\n",
    "# #         continue\n",
    "# #     else:\n",
    "# #         print('UnBalanced')\n",
    "# #         break\n",
    "    "
   ]
  },
  {
   "cell_type": "code",
   "execution_count": 104,
   "id": "f4beb85f",
   "metadata": {},
   "outputs": [],
   "source": [
    "stn='[{()}]'\n",
    "stack=[]"
   ]
  },
  {
   "cell_type": "code",
   "execution_count": 105,
   "id": "c4bcf54d",
   "metadata": {},
   "outputs": [],
   "source": [
    "d={')':'(',']':'[','}':'{'}"
   ]
  },
  {
   "cell_type": "code",
   "execution_count": 106,
   "id": "df7181fd",
   "metadata": {},
   "outputs": [],
   "source": [
    "def bbrackets(stn):\n",
    "    for char in stn:\n",
    "        if not stack:#this bracket is there to eliminate the error that comes due to 1st closing brackets appearance in string\n",
    "            stack.append(char)\n",
    "        elif char not in d:\n",
    "            stack.append(char)\n",
    "            print('this',stack)\n",
    "        else:\n",
    "            if d[char]==stack[-1]:\n",
    "                stack.pop()\n",
    "                print(stack)\n",
    "            else:\n",
    "                print('return')\n",
    "                return False\n",
    "    if not stack:\n",
    "        return True\n",
    "    else:\n",
    "        return False"
   ]
  },
  {
   "cell_type": "code",
   "execution_count": 107,
   "id": "9f092d58",
   "metadata": {},
   "outputs": [
    {
     "name": "stdout",
     "output_type": "stream",
     "text": [
      "this ['[', '{']\n",
      "this ['[', '{', '(']\n",
      "['[', '{']\n",
      "['[']\n",
      "[]\n"
     ]
    },
    {
     "data": {
      "text/plain": [
       "True"
      ]
     },
     "execution_count": 107,
     "metadata": {},
     "output_type": "execute_result"
    }
   ],
   "source": [
    "bbrackets(stn)"
   ]
  },
  {
   "cell_type": "code",
   "execution_count": null,
   "id": "420bfcef",
   "metadata": {},
   "outputs": [],
   "source": []
  }
 ],
 "metadata": {
  "kernelspec": {
   "display_name": "Python 3",
   "language": "python",
   "name": "python3"
  },
  "language_info": {
   "codemirror_mode": {
    "name": "ipython",
    "version": 3
   },
   "file_extension": ".py",
   "mimetype": "text/x-python",
   "name": "python",
   "nbconvert_exporter": "python",
   "pygments_lexer": "ipython3",
   "version": "3.8.8"
  }
 },
 "nbformat": 4,
 "nbformat_minor": 5
}
