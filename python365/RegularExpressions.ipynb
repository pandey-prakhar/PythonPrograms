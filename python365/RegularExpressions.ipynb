{
 "cells": [
  {
   "cell_type": "code",
   "execution_count": 9,
   "id": "f93f9ae5",
   "metadata": {},
   "outputs": [],
   "source": [
    "x=\"tanu prakhar\"\n",
    "n1,n2,*n3=list(x.split())"
   ]
  },
  {
   "cell_type": "code",
   "execution_count": 11,
   "id": "747dca0e",
   "metadata": {},
   "outputs": [
    {
     "data": {
      "text/plain": [
       "'prakhar'"
      ]
     },
     "execution_count": 11,
     "metadata": {},
     "output_type": "execute_result"
    }
   ],
   "source": [
    "n2"
   ]
  },
  {
   "cell_type": "code",
   "execution_count": 34,
   "id": "8cae5f19",
   "metadata": {},
   "outputs": [
    {
     "name": "stdout",
     "output_type": "stream",
     "text": [
      "3\n",
      "insert 0 4\n",
      "insert 1 4\n",
      "print\n",
      "[4, 4]\n"
     ]
    }
   ],
   "source": [
    "N = int(input())\n",
    "listy=[]\n",
    "for i in range(N):\n",
    "    operation=input().split()\n",
    "    if operation[0]==\"insert\":b\n",
    "        listy.insert(int(operation[1]),int(operation[2]))\n",
    "    elif operation[0]==\"remove\":\n",
    "        listy.remove(int(operation[1]))\n",
    "    elif operation[0]==\"append\":\n",
    "        listy.append(int(operation[1]))\n",
    "    elif operation[0]==\"sort\":\n",
    "        listy.sort()\n",
    "    elif operation[0]==\"pop\":\n",
    "        listy.pop()\n",
    "    elif operation[0]==\"reverse\":\n",
    "        listy.reverse()\n",
    "    elif operation[0]==\"print\":\n",
    "        print(listy)\n"
   ]
  },
  {
   "cell_type": "code",
   "execution_count": 33,
   "id": "1b2b4e3c",
   "metadata": {},
   "outputs": [
    {
     "data": {
      "text/plain": [
       "['insert', '3', '4', '5', '6', '7', '8']"
      ]
     },
     "execution_count": 33,
     "metadata": {},
     "output_type": "execute_result"
    }
   ],
   "source": [
    "x = \"insert 3 4 5 6 7 8\"\n",
    "y= x.split()\n",
    "y"
   ]
  },
  {
   "cell_type": "code",
   "execution_count": 16,
   "id": "d9067d6a",
   "metadata": {},
   "outputs": [
    {
     "name": "stdout",
     "output_type": "stream",
     "text": [
      "2\n"
     ]
    },
    {
     "ename": "AttributeError",
     "evalue": "'list' object has no attribute 'operation'",
     "output_type": "error",
     "traceback": [
      "\u001b[1;31m---------------------------------------------------------------------------\u001b[0m",
      "\u001b[1;31mAttributeError\u001b[0m                            Traceback (most recent call last)",
      "\u001b[1;32m<ipython-input-16-dbe552366278>\u001b[0m in \u001b[0;36m<module>\u001b[1;34m\u001b[0m\n\u001b[0;32m      4\u001b[0m             \u001b[0mlisty\u001b[0m\u001b[1;33m.\u001b[0m\u001b[0moperation\u001b[0m\u001b[1;33m[\u001b[0m\u001b[1;36m0\u001b[0m\u001b[1;33m]\u001b[0m\u001b[1;33m(\u001b[0m\u001b[0mint\u001b[0m\u001b[1;33m(\u001b[0m\u001b[0moperation\u001b[0m\u001b[1;33m[\u001b[0m\u001b[1;36m1\u001b[0m\u001b[1;33m]\u001b[0m\u001b[1;33m)\u001b[0m\u001b[1;33m,\u001b[0m\u001b[0mint\u001b[0m\u001b[1;33m(\u001b[0m\u001b[0moperation\u001b[0m\u001b[1;33m[\u001b[0m\u001b[1;36m2\u001b[0m\u001b[1;33m]\u001b[0m\u001b[1;33m)\u001b[0m\u001b[1;33m)\u001b[0m\u001b[1;33m\u001b[0m\u001b[1;33m\u001b[0m\u001b[0m\n\u001b[0;32m      5\u001b[0m         \u001b[1;32melif\u001b[0m \u001b[0moperation\u001b[0m\u001b[1;33m==\u001b[0m\u001b[1;34m\"remove\"\u001b[0m\u001b[1;32mor\u001b[0m\u001b[1;34m\"append\"\u001b[0m\u001b[1;33m:\u001b[0m\u001b[1;33m\u001b[0m\u001b[1;33m\u001b[0m\u001b[0m\n\u001b[1;32m----> 6\u001b[1;33m             \u001b[0mlisty\u001b[0m\u001b[1;33m.\u001b[0m\u001b[0moperation\u001b[0m\u001b[1;33m[\u001b[0m\u001b[1;36m0\u001b[0m\u001b[1;33m]\u001b[0m\u001b[1;33m(\u001b[0m\u001b[0mint\u001b[0m\u001b[1;33m(\u001b[0m\u001b[0moperation\u001b[0m\u001b[1;33m[\u001b[0m\u001b[1;36m1\u001b[0m\u001b[1;33m]\u001b[0m\u001b[1;33m)\u001b[0m\u001b[1;33m)\u001b[0m\u001b[1;33m\u001b[0m\u001b[1;33m\u001b[0m\u001b[0m\n\u001b[0m\u001b[0;32m      7\u001b[0m         \u001b[1;32melif\u001b[0m \u001b[0moperation\u001b[0m\u001b[1;33m==\u001b[0m\u001b[1;34m\"sort\"\u001b[0m\u001b[1;32mor\u001b[0m\u001b[1;34m\"pop\"\u001b[0m\u001b[1;32mor\u001b[0m\u001b[1;34m\"reverse\"\u001b[0m\u001b[1;33m:\u001b[0m\u001b[1;33m\u001b[0m\u001b[1;33m\u001b[0m\u001b[0m\n\u001b[0;32m      8\u001b[0m             \u001b[0mlisty\u001b[0m\u001b[1;33m.\u001b[0m\u001b[0moperation\u001b[0m\u001b[1;33m[\u001b[0m\u001b[1;36m0\u001b[0m\u001b[1;33m]\u001b[0m\u001b[1;33m(\u001b[0m\u001b[1;33m)\u001b[0m\u001b[1;33m\u001b[0m\u001b[1;33m\u001b[0m\u001b[0m\n",
      "\u001b[1;31mAttributeError\u001b[0m: 'list' object has no attribute 'operation'"
     ]
    }
   ],
   "source": [
    "for i in range(N):\n",
    "        operation=input().split()\n",
    "        if operation==\"insert\":\n",
    "            listy.operation[0](int(operation[1]),int(operation[2]))\n",
    "        elif operation==\"remove\"or\"append\":\n",
    "            listy.operation[0](int(operation[1]))\n",
    "        elif operation==\"sort\"or\"pop\"or\"reverse\":\n",
    "            listy.operation[0]()\n",
    "        else:\n",
    "            operation[0](listy)"
   ]
  },
  {
   "cell_type": "code",
   "execution_count": 7,
   "id": "c77f2ad0",
   "metadata": {},
   "outputs": [],
   "source": [
    "pi=r'p\\nr'"
   ]
  },
  {
   "cell_type": "code",
   "execution_count": 8,
   "id": "2cf48c69",
   "metadata": {},
   "outputs": [
    {
     "name": "stdout",
     "output_type": "stream",
     "text": [
      "p\\nr\n"
     ]
    }
   ],
   "source": [
    "print(pi)"
   ]
  }
 ],
 "metadata": {
  "kernelspec": {
   "display_name": "Python 3",
   "language": "python",
   "name": "python3"
  },
  "language_info": {
   "codemirror_mode": {
    "name": "ipython",
    "version": 3
   },
   "file_extension": ".py",
   "mimetype": "text/x-python",
   "name": "python",
   "nbconvert_exporter": "python",
   "pygments_lexer": "ipython3",
   "version": "3.8.8"
  }
 },
 "nbformat": 4,
 "nbformat_minor": 5
}
