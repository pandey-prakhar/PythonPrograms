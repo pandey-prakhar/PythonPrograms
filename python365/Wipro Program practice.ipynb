{
 "cells": [
  {
   "cell_type": "markdown",
   "id": "3f8ea9c9",
   "metadata": {},
   "source": [
    "The online math course provider 'MathAtTip' has designed a course for children called Learning Number Recognition and Counting. The assessment part of the course has a question where the student is given a number and a digit. The student needs to find out the total count of the\n",
    "\n",
    "digits present in the number excluding the given digit Write an algorithm to help the student find out the count of the total number of digits present in the number excluding the given digit\n",
    "\n",
    "Input\n",
    "\n",
    "The input consists of two integers-number and digit where the first line integer represents the number and the second line integer represents the digit given to the student. Output\n",
    "\n",
    "Print an integer representing the count of the total number of digits present in the number excluding\n",
    "\n",
    "the given digit Constraints\n",
    "\n",
    "0<number <10⁰ 0<digit ≤9\n",
    "\n",
    "Example Input\n",
    "\n",
    "5644456\n",
    "\n",
    "Output\n",
    "\n",
    "Explanation\n",
    "\n",
    "Excluding 5; the digits in the number are 4 and 5 their total count is 5. Hence the output is 5."
   ]
  },
  {
   "cell_type": "code",
   "execution_count": 6,
   "id": "beed771e",
   "metadata": {},
   "outputs": [
    {
     "name": "stdout",
     "output_type": "stream",
     "text": [
      "5644456\n",
      "4\n",
      "4\n"
     ]
    }
   ],
   "source": [
    "given_number=int(input())\n",
    "given_digit=int(input())\n",
    "str_number=str(given_number)\n",
    "str_digit=str(given_digit)\n",
    "count=0\n",
    "for numb in str_number:\n",
    "    if numb!=str_digit:\n",
    "        count+=1\n",
    "print(count)\n",
    "        "
   ]
  },
  {
   "cell_type": "markdown",
   "id": "4965cf5a",
   "metadata": {},
   "source": [
    "The e-commerce company \"TodaysApparel has a list of sales values of N days. Some days the company made a profit, represented as a positive sales value. Other days the company incurred a loss, represented as a negative sales value. The company wishes to know the number of profitable days in the list. Write an algorithm to help the company know the number of profitable days in the list.\n",
    "\n",
    "Input\n",
    "\n",
    "The first line of input consists of an integer-numDays representing the number of days (N)\n",
    "\n",
    "The second line of input consists of N space-separated integers-sales[0]. sales(N-1) representing the sales value of N days respectively. Print an integer representing the number of days the company made a profit.\n",
    "\n",
    "sales(1) Output\n",
    "\n",
    "Example Input\n",
    "\n",
    "7\n",
    "\n",
    "23-7 13-34 56 43-12\n",
    "\n",
    "Output\n",
    "\n",
    "4\n",
    "\n",
    "Explanation\n",
    "\n",
    "The number of positive sales values in the list is 4. Hence the output is 4."
   ]
  },
  {
   "cell_type": "code",
   "execution_count": 10,
   "id": "9ae5e938",
   "metadata": {},
   "outputs": [
    {
     "name": "stdout",
     "output_type": "stream",
     "text": [
      "2 -3 -4 -6 -7\n"
     ]
    }
   ],
   "source": [
    "\n"
   ]
  },
  {
   "cell_type": "code",
   "execution_count": 18,
   "id": "bbc5d830",
   "metadata": {},
   "outputs": [
    {
     "name": "stdout",
     "output_type": "stream",
     "text": [
      "23 -7 13 -34 56 43 -12\n",
      "[23, -7, 13, -34, 56, 43, -12]\n",
      "4\n"
     ]
    }
   ],
   "source": [
    "arr = list(map(int, input().rstrip().split()))\n",
    "print(arr)\n",
    "count=0\n",
    "for value in arr:\n",
    "    if value>0:\n",
    "        count+=1\n",
    "print(count)\n",
    "        "
   ]
  }
 ],
 "metadata": {
  "kernelspec": {
   "display_name": "Python 3",
   "language": "python",
   "name": "python3"
  },
  "language_info": {
   "codemirror_mode": {
    "name": "ipython",
    "version": 3
   },
   "file_extension": ".py",
   "mimetype": "text/x-python",
   "name": "python",
   "nbconvert_exporter": "python",
   "pygments_lexer": "ipython3",
   "version": "3.8.8"
  }
 },
 "nbformat": 4,
 "nbformat_minor": 5
}
