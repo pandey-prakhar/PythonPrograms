{
 "cells": [
  {
   "cell_type": "code",
   "execution_count": 2,
   "id": "baea6ffc",
   "metadata": {},
   "outputs": [],
   "source": [
    "import math"
   ]
  },
  {
   "cell_type": "code",
   "execution_count": 3,
   "id": "a1743c03",
   "metadata": {},
   "outputs": [],
   "source": [
    "nums=[2,3,1,7,5,4,8,5]\n",
    "nums.sort()"
   ]
  },
  {
   "cell_type": "code",
   "execution_count": 10,
   "id": "25d22e45",
   "metadata": {},
   "outputs": [
    {
     "ename": "SyntaxError",
     "evalue": "invalid syntax (<ipython-input-10-3194c26dba07>, line 2)",
     "output_type": "error",
     "traceback": [
      "\u001b[1;36m  File \u001b[1;32m\"<ipython-input-10-3194c26dba07>\"\u001b[1;36m, line \u001b[1;32m2\u001b[0m\n\u001b[1;33m    nums=[0 for i in range(len(lent)+1):]\u001b[0m\n\u001b[1;37m                                       ^\u001b[0m\n\u001b[1;31mSyntaxError\u001b[0m\u001b[1;31m:\u001b[0m invalid syntax\n"
     ]
    }
   ],
   "source": [
    "lent=[1,2,3,4,5]\n",
    "nums=[0 for i in range(len(lent)+1)]\n",
    "nums\n"
   ]
  }
 ],
 "metadata": {
  "kernelspec": {
   "display_name": "Python 3",
   "language": "python",
   "name": "python3"
  },
  "language_info": {
   "codemirror_mode": {
    "name": "ipython",
    "version": 3
   },
   "file_extension": ".py",
   "mimetype": "text/x-python",
   "name": "python",
   "nbconvert_exporter": "python",
   "pygments_lexer": "ipython3",
   "version": "3.8.8"
  }
 },
 "nbformat": 4,
 "nbformat_minor": 5
}
