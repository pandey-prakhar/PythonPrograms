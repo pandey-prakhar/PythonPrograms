{
 "cells": [
  {
   "cell_type": "markdown",
   "id": "14a6a9ab",
   "metadata": {},
   "source": [
    "the two sum problem"
   ]
  },
  {
   "cell_type": "code",
   "execution_count": 12,
   "id": "9ff3cab8",
   "metadata": {},
   "outputs": [],
   "source": [
    "l=[1,2,5,6,8,4]"
   ]
  },
  {
   "cell_type": "code",
   "execution_count": 9,
   "id": "14d3930c",
   "metadata": {},
   "outputs": [
    {
     "name": "stdout",
     "output_type": "stream",
     "text": [
      "(6, 4)\n",
      "(8, 2)\n"
     ]
    }
   ],
   "source": [
    "# count=0\n",
    "# for i in range(len(l)):\n",
    "#     for j in (1,len(l)-1):\n",
    "#         if l[i]+l[j]==10:\n",
    "#             print(f'{i,j }')\n",
    "#             count=count+1\n",
    "            \n",
    "    \n",
    "        "
   ]
  },
  {
   "cell_type": "markdown",
   "id": "a0bbb27d",
   "metadata": {},
   "source": [
    "a far better approach\n"
   ]
  },
  {
   "cell_type": "code",
   "execution_count": 23,
   "id": "5773c023",
   "metadata": {},
   "outputs": [],
   "source": [
    "def two_sum(l,s=10):\n",
    "    d={}\n",
    "    c=0\n",
    "    for i in range(len(l)):\n",
    "        if s-l[i] in d:\n",
    "            print(d)\n",
    "            print(d[s-l[i]],i)\n",
    "            return(d[s-l[i]],i)\n",
    "        d[l[i]]=i\n",
    "    return(-1)\n",
    "\n",
    "    "
   ]
  },
  {
   "cell_type": "code",
   "execution_count": 25,
   "id": "c6045f0c",
   "metadata": {},
   "outputs": [
    {
     "name": "stdout",
     "output_type": "stream",
     "text": [
      "{1: 0, 2: 1}\n",
      "1 2\n"
     ]
    },
    {
     "data": {
      "text/plain": [
       "(1, 2)"
      ]
     },
     "execution_count": 25,
     "metadata": {},
     "output_type": "execute_result"
    }
   ],
   "source": [
    "two_sum(l,7)"
   ]
  },
  {
   "cell_type": "code",
   "execution_count": null,
   "id": "af03a96c",
   "metadata": {},
   "outputs": [],
   "source": []
  }
 ],
 "metadata": {
  "kernelspec": {
   "display_name": "Python 3",
   "language": "python",
   "name": "python3"
  },
  "language_info": {
   "codemirror_mode": {
    "name": "ipython",
    "version": 3
   },
   "file_extension": ".py",
   "mimetype": "text/x-python",
   "name": "python",
   "nbconvert_exporter": "python",
   "pygments_lexer": "ipython3",
   "version": "3.8.8"
  }
 },
 "nbformat": 4,
 "nbformat_minor": 5
}
