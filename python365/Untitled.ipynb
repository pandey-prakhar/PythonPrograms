{
 "cells": [
  {
   "cell_type": "code",
   "execution_count": 3,
   "id": "0d51e8a3",
   "metadata": {},
   "outputs": [],
   "source": [
    "def binary_search(item,mylist):\n",
    "    found=False\n",
    "    first=0\n",
    "    last=len(mylist)-1\n",
    "    while first<=last and found==False:\n",
    "        middle=(first+last)//2\n",
    "        if item==mylist[middle]:\n",
    "            found=True\n",
    "        else:\n",
    "            if item>mylist[middle]:\n",
    "                first=middle\n",
    "            else:\n",
    "                last=middle\n",
    "    return found"
   ]
  },
  {
   "cell_type": "code",
   "execution_count": null,
   "id": "4d1887ab",
   "metadata": {},
   "outputs": [
    {
     "name": "stdout",
     "output_type": "stream",
     "text": [
      "True\n"
     ]
    }
   ],
   "source": [
    "ml=[3,4,5,6,7,8,9]\n",
    "print(binary_search(5,ml))\n",
    "\n",
    "print(binary_search(1,ml))"
   ]
  },
  {
   "cell_type": "code",
   "execution_count": null,
   "id": "2b96b663",
   "metadata": {},
   "outputs": [],
   "source": []
  }
 ],
 "metadata": {
  "kernelspec": {
   "display_name": "Python 3",
   "language": "python",
   "name": "python3"
  },
  "language_info": {
   "codemirror_mode": {
    "name": "ipython",
    "version": 3
   },
   "file_extension": ".py",
   "mimetype": "text/x-python",
   "name": "python",
   "nbconvert_exporter": "python",
   "pygments_lexer": "ipython3",
   "version": "3.8.8"
  }
 },
 "nbformat": 4,
 "nbformat_minor": 5
}
