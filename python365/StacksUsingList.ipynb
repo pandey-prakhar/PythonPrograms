{
 "cells": [
  {
   "cell_type": "markdown",
   "id": "7512e0a7",
   "metadata": {},
   "source": [
    "STACKS CAN BE EASILY FORMED FROM LIST"
   ]
  },
  {
   "cell_type": "code",
   "execution_count": 1,
   "id": "698bfd1b",
   "metadata": {},
   "outputs": [],
   "source": [
    "stack=[]\n"
   ]
  },
  {
   "cell_type": "code",
   "execution_count": 2,
   "id": "47bf6d3b",
   "metadata": {},
   "outputs": [],
   "source": [
    "stack.append(4)"
   ]
  },
  {
   "cell_type": "code",
   "execution_count": 7,
   "id": "60dc9bce",
   "metadata": {},
   "outputs": [
    {
     "name": "stdout",
     "output_type": "stream",
     "text": [
      "[4, 4, 7, 7]\n"
     ]
    }
   ],
   "source": [
    "stack.append(7)\n",
    "print(stack)"
   ]
  },
  {
   "cell_type": "code",
   "execution_count": 8,
   "id": "b48f73de",
   "metadata": {},
   "outputs": [
    {
     "data": {
      "text/plain": [
       "7"
      ]
     },
     "execution_count": 8,
     "metadata": {},
     "output_type": "execute_result"
    }
   ],
   "source": [
    "stack[-1]"
   ]
  },
  {
   "cell_type": "markdown",
   "id": "62325496",
   "metadata": {},
   "source": [
    "CREATING A CLASS THAT CAN CREATE A STACK USING A LIST AND HAVE METHOD ASSOCIATED WITH LIST."
   ]
  },
  {
   "cell_type": "code",
   "execution_count": 24,
   "id": "5ed44422",
   "metadata": {},
   "outputs": [],
   "source": [
    "class Stack():\n",
    "    def __init__(self):\n",
    "        self.list_stack=[]\n",
    "    def is_empty(self):\n",
    "        if not self.list_stack:#if self.list_stack==0: (it can also be used)\n",
    "            return True\n",
    "        else:\n",
    "            return False\n",
    "    def push(self,item):\n",
    "        self.list_stack.append(item)\n",
    "    def pop(self):\n",
    "        self.list_stack.pop()\n",
    "    def peek(self):\n",
    "        if self.list_stack==[]:\n",
    "            return None \n",
    "        else :\n",
    "            return(self.list_stack[-1])\n",
    "    def __repr__(self):#prints the instance or just prints the things of object , not very clear but it prints\n",
    "        return repr(self.list_stack)\n",
    "        "
   ]
  },
  {
   "cell_type": "code",
   "execution_count": 25,
   "id": "d802a4e3",
   "metadata": {},
   "outputs": [],
   "source": [
    "nstack=Stack()"
   ]
  },
  {
   "cell_type": "code",
   "execution_count": 26,
   "id": "8f412b2f",
   "metadata": {},
   "outputs": [
    {
     "data": {
      "text/plain": [
       "True"
      ]
     },
     "execution_count": 26,
     "metadata": {},
     "output_type": "execute_result"
    }
   ],
   "source": [
    "nstack.is_empty()"
   ]
  },
  {
   "cell_type": "code",
   "execution_count": 27,
   "id": "63c6061d",
   "metadata": {},
   "outputs": [],
   "source": [
    "nstack.push(5)"
   ]
  },
  {
   "cell_type": "code",
   "execution_count": 28,
   "id": "a462605f",
   "metadata": {},
   "outputs": [],
   "source": [
    "nstack.push(4)"
   ]
  },
  {
   "cell_type": "code",
   "execution_count": 29,
   "id": "5f9c5798",
   "metadata": {},
   "outputs": [
    {
     "data": {
      "text/plain": [
       "'[5, 4]'"
      ]
     },
     "execution_count": 29,
     "metadata": {},
     "output_type": "execute_result"
    }
   ],
   "source": [
    "nstack.__repr__()"
   ]
  },
  {
   "cell_type": "code",
   "execution_count": 30,
   "id": "ee60f33a",
   "metadata": {},
   "outputs": [
    {
     "data": {
      "text/plain": [
       "4"
      ]
     },
     "execution_count": 30,
     "metadata": {},
     "output_type": "execute_result"
    }
   ],
   "source": [
    "nstack.peek()"
   ]
  },
  {
   "cell_type": "code",
   "execution_count": 31,
   "id": "733c7959",
   "metadata": {},
   "outputs": [],
   "source": [
    "nstack.pop()"
   ]
  },
  {
   "cell_type": "code",
   "execution_count": 32,
   "id": "d196ecd0",
   "metadata": {},
   "outputs": [
    {
     "data": {
      "text/plain": [
       "5"
      ]
     },
     "execution_count": 32,
     "metadata": {},
     "output_type": "execute_result"
    }
   ],
   "source": [
    "nstack.peek()"
   ]
  },
  {
   "cell_type": "code",
   "execution_count": 33,
   "id": "54af68a7",
   "metadata": {},
   "outputs": [
    {
     "data": {
      "text/plain": [
       "False"
      ]
     },
     "execution_count": 33,
     "metadata": {},
     "output_type": "execute_result"
    }
   ],
   "source": [
    "nstack.is_empty()"
   ]
  },
  {
   "cell_type": "code",
   "execution_count": null,
   "id": "f6e52e03",
   "metadata": {},
   "outputs": [],
   "source": []
  }
 ],
 "metadata": {
  "kernelspec": {
   "display_name": "Python 3",
   "language": "python",
   "name": "python3"
  },
  "language_info": {
   "codemirror_mode": {
    "name": "ipython",
    "version": 3
   },
   "file_extension": ".py",
   "mimetype": "text/x-python",
   "name": "python",
   "nbconvert_exporter": "python",
   "pygments_lexer": "ipython3",
   "version": "3.8.8"
  }
 },
 "nbformat": 4,
 "nbformat_minor": 5
}
