{
 "cells": [
  {
   "cell_type": "markdown",
   "id": "0aa73d77",
   "metadata": {},
   "source": [
    "#Introduction to Binary Search and Complexity Analysis with Python\n",
    "\n",
    "#Here's a systematic strategy we'll apply for solving problems:\n",
    "\n",
    "        State the problem clearly(Abstract term). Identify the input & output formats.\n",
    "        Come up with some example inputs & outputs. Try to cover all edge cases.\n",
    "        Come up with a correct solution for the problem. State it in plain English.\n",
    "        Implement the solution and test it using example inputs. Fix bugs, if any.\n",
    "        Analyze the algorithm's complexity and identify inefficiencies, if any.\n",
    "        Apply the right technique to overcome the inefficiency. Repeat steps 3 to 6."
   ]
  },
  {
   "cell_type": "markdown",
   "id": "1182865f",
   "metadata": {},
   "source": [
    "PROBLEMQUESTION 1: Alice has some cards with numbers written on them. She arranges the cards in decreasing order,\n",
    "and lays them out face down in a sequence on a table. She challenges Bob to pick out the card containing a given \n",
    "number by turning over as few cards as possible. Write a function to help Bob locate the card.\n",
    "1 State the problem clearly. Identify the input & output formats.\n",
    "We need to write a program to find the position of a given number in a list of numbers arranged in decreasing order.\n",
    "We also need to minimize the number of times we access elements from the list in order to get our numbers.\n",
    "Input\n",
    "cards: A list of numbers sorted in decreasing order. E.g. [13, 11, 10, 7, 4, 3, 1, 0]\n",
    "query: A number, whose position in the array is to be determined. E.g. 7\n",
    "Output\n",
    "position: The position of query in the list cards. E.g. 3 in the above case (counting from 0)\n",
    "Based on the above, we can now create the signature of our function:\n",
    "Our function should be able to handle any set of valid inputs we pass into it. Here's a list of some possible variations we might encounter:\n",
    "\n",
    "The number query occurs somewhere in the middle of the list cards.\n",
    "query is the first element in cards.\n",
    "query is the last element in cards.\n",
    "The list cards contains just one element, which is query.\n",
    "The list cards does not contain number query.\n",
    "The list cards is empty.\n",
    "The list cards contains repeating numbers.\n",
    "The number query occurs at more than one position in cards.\n",
    "(can you think of any more variations?)\n",
    "Edge Cases: It's likely that you didn't think of all of the above cases when you read the problem for the first time. Some of these (like the empty array or query not occurring in cards) are called edge cases, as they represent rare or extreme examples.\n",
    "\n",
    "While edge cases may not occur frequently, your programs should be able to handle all edge cases, otherwise they may fail in unexpected ways. Let's create some more test cases for the variations listed above. We'll store all our test cases in an list for easier testing.\n"
   ]
  },
  {
   "cell_type": "code",
   "execution_count": 8,
   "id": "14bdc2a3",
   "metadata": {},
   "outputs": [
    {
     "data": {
      "text/plain": [
       "[{'input': {'cards': [13, 11, 10, 7, 4, 3, 1, 0], 'query': 7}, 'output': 3},\n",
       " {'input': {'cards': [13, 11, 10, 7, 4, 3, 1, 0], 'query': 1}, 'output': 6},\n",
       " {'input': {'cards': [4, 2, 1, -1], 'query': 4}, 'output': 0},\n",
       " {'input': {'cards': [3, -1, -9, -127], 'query': -127}, 'output': 3},\n",
       " {'input': {'cards': [6], 'query': 6}, 'output': 0},\n",
       " {'input': {'cards': [9, 7, 5, 2, -9], 'query': 4}, 'output': -1},\n",
       " {'input': {'cards': [], 'query': 7}, 'output': -1},\n",
       " {'input': {'cards': [8, 8, 6, 6, 6, 6, 6, 3, 2, 2, 2, 0, 0, 0], 'query': 3},\n",
       "  'output': 7},\n",
       " {'input': {'cards': [8, 8, 6, 6, 6, 6, 6, 6, 3, 2, 2, 2, 0, 0, 0],\n",
       "   'query': 6},\n",
       "  'output': 2}]"
      ]
     },
     "execution_count": 8,
     "metadata": {},
     "output_type": "execute_result"
    }
   ],
   "source": [
    "# BUILDING TEST CASES\n",
    "tests = []\n",
    "# query occurs in the middle\n",
    "tests.append({\n",
    "    'input': { \n",
    "        'cards': [13, 11, 10, 7, 4, 3, 1, 0], \n",
    "        'query': 7\n",
    "    },\n",
    "    'output': 3\n",
    "})\n",
    "\n",
    "tests.append({\n",
    "    'input': {\n",
    "        'cards': [13, 11, 10, 7, 4, 3, 1, 0],\n",
    "        'query': 1\n",
    "    },\n",
    "    'output': 6\n",
    "})\n",
    "# query is the first element\n",
    "tests.append({\n",
    "    'input': {\n",
    "        'cards': [4, 2, 1, -1],\n",
    "        'query': 4\n",
    "    },\n",
    "    'output': 0\n",
    "})\n",
    "# query is the last element\n",
    "tests.append({\n",
    "    'input': {\n",
    "        'cards': [3, -1, -9, -127],\n",
    "        'query': -127\n",
    "    },\n",
    "    'output': 3\n",
    "})\n",
    "# cards contains just one element, query\n",
    "tests.append({\n",
    "    'input': {\n",
    "        'cards': [6],\n",
    "        'query': 6\n",
    "    },\n",
    "    'output': 0 \n",
    "})\n",
    "# cards does not contain query \n",
    "tests.append({\n",
    "    'input': {\n",
    "        'cards': [9, 7, 5, 2, -9],\n",
    "        'query': 4\n",
    "    },\n",
    "    'output': -1\n",
    "})\n",
    "# cards is empty\n",
    "tests.append({\n",
    "    'input': {\n",
    "        'cards': [],\n",
    "        'query': 7\n",
    "    },\n",
    "    'output': -1\n",
    "})\n",
    "# numbers can repeat in cards\n",
    "tests.append({\n",
    "    'input': {\n",
    "        'cards': [8, 8, 6, 6, 6, 6, 6, 3, 2, 2, 2, 0, 0, 0],\n",
    "        'query': 3\n",
    "    },\n",
    "    'output': 7\n",
    "})\n",
    "# query occurs multiple times\n",
    "tests.append({\n",
    "    'input': {\n",
    "        'cards': [8, 8, 6, 6, 6, 6, 6, 6, 3, 2, 2, 2, 0, 0, 0],\n",
    "        'query': 6\n",
    "    },\n",
    "    'output': 2\n",
    "})\n",
    "\n",
    "tests\n"
   ]
  },
  {
   "cell_type": "code",
   "execution_count": 9,
   "id": "47bd47be",
   "metadata": {},
   "outputs": [],
   "source": [
    "# brute force or linear search algorithm.\n",
    "def locate_cards1(cards, query):\n",
    "    for i in range(len(cards)):\n",
    "        if cards[i]==query:\n",
    "            return i\n",
    "    return -1\n",
    "    "
   ]
  },
  {
   "cell_type": "code",
   "execution_count": 10,
   "id": "1eb3fbaf",
   "metadata": {},
   "outputs": [],
   "source": [
    "def check_it(tests):    \n",
    "    for test in tests:\n",
    "        result=locate_cards1(test['input']['cards'], test['input']['query'])\n",
    "        print(result)\n",
    "        if test['input']['query']==result:\n",
    "            print(\"PASSED\")\n",
    "            "
   ]
  },
  {
   "cell_type": "code",
   "execution_count": 11,
   "id": "833dedbc",
   "metadata": {},
   "outputs": [
    {
     "name": "stdout",
     "output_type": "stream",
     "text": [
      "3\n",
      "6\n",
      "0\n",
      "3\n",
      "0\n",
      "-1\n",
      "-1\n",
      "7\n",
      "2\n"
     ]
    }
   ],
   "source": [
    "check_it(tests)"
   ]
  },
  {
   "cell_type": "code",
   "execution_count": 32,
   "id": "ce2517de",
   "metadata": {},
   "outputs": [],
   "source": [
    "def locate_card2(cards, query):\n",
    "    flag=False\n",
    "    first=0\n",
    "    last=len(cards)-1\n",
    "    while first<=last and flag==False:\n",
    "        middle=(first+last)//2\n",
    "        if cards[middle]==query:\n",
    "            flag=True\n",
    "            print(middle)\n",
    "        else:\n",
    "            if cards[middle]<query:\n",
    "                last=middle-1\n",
    "            else:\n",
    "                first=middle+1\n",
    "    if flag==False:\n",
    "        print(-1)\n",
    "    return flag\n",
    "            \n",
    "        \n",
    "    "
   ]
  },
  {
   "cell_type": "code",
   "execution_count": 41,
   "id": "654df2fd",
   "metadata": {},
   "outputs": [],
   "source": [
    "def check_it2(tests):    \n",
    "    for test in tests:\n",
    "        result=locate_card_main(test['input']['cards'], test['input']['query'])\n",
    "        \n",
    "        "
   ]
  },
  {
   "cell_type": "code",
   "execution_count": 42,
   "id": "63a76d31",
   "metadata": {},
   "outputs": [],
   "source": [
    "check_it2(tests)"
   ]
  },
  {
   "cell_type": "code",
   "execution_count": 40,
   "id": "22162866",
   "metadata": {},
   "outputs": [],
   "source": [
    "# if your code is going to be long try to minimise it in code snnipets\n",
    "# COMPLETE CODE \n",
    "def test_location(cards, query, mid):\n",
    "    mid_number = cards[mid]\n",
    "#     print(\"mid:\", mid, \", mid_number:\", mid_number)\n",
    "    if mid_number == query:\n",
    "        if mid-1 >= 0 and cards[mid-1] == query:\n",
    "            return 'left'\n",
    "        else:\n",
    "            return 'found'\n",
    "    elif mid_number < query:\n",
    "        return 'left'\n",
    "    else:\n",
    "        return 'right'\n",
    "\n",
    "def locate_card_main(cards, query):\n",
    "    lo, hi = 0, len(cards) - 1\n",
    "    \n",
    "    while lo <= hi:\n",
    "#         print(\"lo:\", lo, \", hi:\", hi)\n",
    "        mid = (lo + hi) // 2\n",
    "        result = test_location(cards, query, mid)\n",
    "        \n",
    "        if result == 'found':\n",
    "            return mid\n",
    "        elif result == 'left':\n",
    "            hi = mid - 1\n",
    "        elif result == 'right':\n",
    "            lo = mid + 1\n",
    "    return -1"
   ]
  },
  {
   "cell_type": "code",
   "execution_count": 43,
   "id": "7d686f9f",
   "metadata": {},
   "outputs": [
    {
     "data": {
      "text/plain": [
       "2"
      ]
     },
     "execution_count": 43,
     "metadata": {},
     "output_type": "execute_result"
    }
   ],
   "source": [
    "locate_card_main([5,6,4,3,2,1], 4)"
   ]
  },
  {
   "cell_type": "markdown",
   "id": "db0bebf3",
   "metadata": {},
   "source": [
    "TIME COMPLEXITY\n",
    "Initial length - N\n",
    "\n",
    "Iteration 1 - N/2\n",
    "\n",
    "Iteration 2 - N/4 i.e. N/2^2\n",
    "\n",
    "Iteration 3 - N/8 i.e. N/2^3\n",
    "\n",
    "...\n",
    "\n",
    "Iteration k - N/2^k\n",
    "\n",
    "Since the final length of the array is 1, we can find the\n",
    "\n",
    "N/2^k = 1\n",
    "\n",
    "Rearranging the terms, we get\n",
    "\n",
    "N = 2^k\n",
    "\n",
    "Taking the logarithm\n",
    "\n",
    "k = log N\n",
    "\n",
    "Where log refers to log to the base 2. Therefore, our algorithm has the time complexity O(log N). This fact is often stated as: binary search runs in logarithmic time. You can verify that the space complexity of binary search is O(1)."
   ]
  },
  {
   "cell_type": "markdown",
   "id": "2a026719",
   "metadata": {},
   "source": [
    "Generic Binary Search\n",
    "Here is the general strategy behind binary search, which is applicable to a variety of problems:\n",
    "\n",
    "Come up with a condition to determine whether the answer lies before, after or at a given position\n",
    "Retrieve the midpoint and the middle element of the list.\n",
    "If it is the answer, return the middle position as the answer.\n",
    "If answer lies before it, repeat the search with the first half of the list\n",
    "If the answer lies after it, repeat the search with the second half of the list.\n",
    "Here is the generic algorithm for binary search, implemented in Python:"
   ]
  },
  {
   "cell_type": "code",
   "execution_count": null,
   "id": "de25de62",
   "metadata": {},
   "outputs": [],
   "source": [
    "# GENERIC FUNCTION\n",
    "def binary_search(lo, hi, condition):\n",
    "    \"\"\"TODO - add docs\"\"\"\n",
    "    while lo <= hi:\n",
    "        mid = (lo + hi) // 2\n",
    "        result = condition(mid)\n",
    "        if result == 'found':\n",
    "            return mid\n",
    "        elif result == 'left':\n",
    "            hi = mid - 1\n",
    "        else:\n",
    "            lo = mid + 1\n",
    "    return -1"
   ]
  },
  {
   "cell_type": "code",
   "execution_count": null,
   "id": "7a9df191",
   "metadata": {},
   "outputs": [],
   "source": [
    "# NOW FORMING SOLN FOR LOCATE CARD USING GENERIC FUNCTION\n",
    "def locate_card(cards, query):#THIS IS SOMETHING VERY NEW I LEARNT  THAT FUNCTION CAN BE DEFINED INSIDE A FUNCTION IN PYTHON.\n",
    "    \n",
    "    def condition(mid):\n",
    "        if cards[mid] == query:\n",
    "            if mid > 0 and cards[mid-1] == query:\n",
    "                return 'left'\n",
    "            else:\n",
    "                return 'found'\n",
    "        elif cards[mid] < query:\n",
    "            return 'left'\n",
    "        else:\n",
    "            return 'right'\n",
    "    \n",
    "    return binary_search(0, len(cards) - 1, condition)"
   ]
  },
  {
   "cell_type": "markdown",
   "id": "312d87b9",
   "metadata": {},
   "source": [
    "The binary_search function can now be used to solve other problems too. It is a tested piece of logic.\n",
    "\n",
    "Question: Given an array of integers nums sorted in ascending order, find the starting and ending position of a given number.\n",
    "\n",
    "This differs from the problem in only two significant ways:\n",
    "\n",
    "The numbers are sorted in increasing order.\n",
    "We are looking for both the START INDEX  and the eND INDEX.\n",
    "Here's the full code for solving the question, obtained by making minor modifications to our previous function:"
   ]
  },
  {
   "cell_type": "code",
   "execution_count": null,
   "id": "9d425d28",
   "metadata": {},
   "outputs": [],
   "source": [
    "def first_position(nums, target):\n",
    "    def condition(mid):\n",
    "        if nums[mid] == target:\n",
    "            if mid > 0 and nums[mid-1] == target:\n",
    "                return 'left'\n",
    "            return 'found'\n",
    "        elif nums[mid] < target:\n",
    "            return 'right'\n",
    "        else:\n",
    "            return 'left'\n",
    "    return binary_search(0, len(nums)-1, condition)\n",
    "\n",
    "def last_position(nums, target):\n",
    "    def condition(mid):\n",
    "        if nums[mid] == target:\n",
    "            if mid < len(nums)-1 and nums[mid+1] == target:\n",
    "                return 'right'\n",
    "            return 'found'\n",
    "        elif nums[mid] < target:\n",
    "            return 'right'\n",
    "        else:\n",
    "            return 'left'\n",
    "    return binary_search(0, len(nums)-1, condition)\n",
    "\n",
    "def first_and_last_position(nums, target):\n",
    "    return first_position(nums, target), last_position(nums, target)"
   ]
  }
 ],
 "metadata": {
  "kernelspec": {
   "display_name": "Python 3",
   "language": "python",
   "name": "python3"
  },
  "language_info": {
   "codemirror_mode": {
    "name": "ipython",
    "version": 3
   },
   "file_extension": ".py",
   "mimetype": "text/x-python",
   "name": "python",
   "nbconvert_exporter": "python",
   "pygments_lexer": "ipython3",
   "version": "3.8.8"
  }
 },
 "nbformat": 4,
 "nbformat_minor": 5
}
