{
 "cells": [
  {
   "cell_type": "code",
   "execution_count": 16,
   "id": "e446e2ce",
   "metadata": {},
   "outputs": [
    {
     "name": "stdout",
     "output_type": "stream",
     "text": [
      "2 1 5 8 3 2 5\n",
      "7\n",
      "5\n"
     ]
    }
   ],
   "source": [
    "\n",
    "given_arr=list(map(int, input().rstrip().split()))\n",
    "N=int(input())\n",
    " \n",
    "\n",
    "\n",
    "\n",
    "inc=[0]*N\n",
    "inc[0]=1\n",
    "for i in range(1,N):\n",
    "    if(given_arr[i-1]<given_arr[i]):\n",
    "        inc[i]=inc[i-1]+1\n",
    "    else:\n",
    "        inc[i]=1\n",
    "\n",
    "dec=[0]*N\n",
    "dec[N-1]=1\n",
    "for i in range(N-2,-1,-1):\n",
    "    if given_arr[i+1]<given_arr[i]:\n",
    "        dec[i]=dec[i+1]+1\n",
    "    else:\n",
    "        dec[i]=1\n",
    "\n",
    "maxArr=0\n",
    "for i in range(N):\n",
    "    maxArr=max(maxArr,inc[i]+dec[i]-1)\n",
    "\n",
    "print(maxArr)\n",
    "\n",
    "    \n",
    "    "
   ]
  },
  {
   "cell_type": "code",
   "execution_count": 9,
   "id": "301abcce",
   "metadata": {},
   "outputs": [
    {
     "name": "stdout",
     "output_type": "stream",
     "text": [
      "4 3 2 1\n"
     ]
    }
   ],
   "source": [
    "A=list(map(int, input().rstrip().split()))\n"
   ]
  },
  {
   "cell_type": "code",
   "execution_count": 31,
   "id": "3bd5ac32",
   "metadata": {},
   "outputs": [
    {
     "name": "stdout",
     "output_type": "stream",
     "text": [
      "F\n",
      "31\n"
     ]
    },
    {
     "data": {
      "text/plain": [
       "5"
      ]
     },
     "execution_count": 31,
     "metadata": {},
     "output_type": "execute_result"
    }
   ],
   "source": [
    "def count_sun(today, number):\n",
    "    \n",
    "    count=0\n",
    "    days=['M','T','W','Th','F','Sa','Su']\n",
    "    for i in range(days.index(today),number+1+(days.index(today))):\n",
    "        j=i%7\n",
    "        if days[j]=='Su':\n",
    "            count+=1\n",
    "    return count\n",
    "today=input()\n",
    "number=int(input())\n",
    "count_sun(today,number)\n",
    "        \n",
    "    \n",
    "    "
   ]
  },
  {
   "cell_type": "code",
   "execution_count": 24,
   "id": "b73a017c",
   "metadata": {},
   "outputs": [
    {
     "name": "stdout",
     "output_type": "stream",
     "text": [
      "Th\n",
      "30\n"
     ]
    },
    {
     "data": {
      "text/plain": [
       "3"
      ]
     },
     "execution_count": 24,
     "metadata": {},
     "output_type": "execute_result"
    }
   ],
   "source": [
    "days=['M','T','W','Th','F','Sa','Su']\n",
    "today=input()\n",
    "number=int(input())\n",
    "days.index(today)\n"
   ]
  }
 ],
 "metadata": {
  "kernelspec": {
   "display_name": "Python 3",
   "language": "python",
   "name": "python3"
  },
  "language_info": {
   "codemirror_mode": {
    "name": "ipython",
    "version": 3
   },
   "file_extension": ".py",
   "mimetype": "text/x-python",
   "name": "python",
   "nbconvert_exporter": "python",
   "pygments_lexer": "ipython3",
   "version": "3.8.8"
  }
 },
 "nbformat": 4,
 "nbformat_minor": 5
}
