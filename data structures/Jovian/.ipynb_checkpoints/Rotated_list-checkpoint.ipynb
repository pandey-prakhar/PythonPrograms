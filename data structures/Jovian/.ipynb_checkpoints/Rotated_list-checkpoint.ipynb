{
 "cells": [
  {
   "cell_type": "markdown",
   "id": "cc664d60",
   "metadata": {},
   "source": [
    "You are given list of numbers, obtained by rotating a sorted list an unknown number of times. Write a function to determine the minimum number of times the original sorted list was rotated to obtain the given list. Your function should have the worst-case complexity of O(log N), where N is the length of the list. You can assume that all the numbers in the list are unique.\n",
    "\n",
    "Example: The list [5, 6, 9, 0, 2, 3, 4] was obtained by rotating the sorted list [0, 2, 3, 4, 5, 6, 9] 3 times.\n",
    "\n",
    "We define \"rotating a list\" as removing the last element of the list and adding it before the first element. E.g. rotating the list [3, 2, 4, 1] produces [1, 3, 2, 4].\n",
    "\n",
    "\"Sorted list\" refers to a list where the elements are arranged in the increasing order e.g. [1, 3, 5, 7]."
   ]
  },
  {
   "cell_type": "code",
   "execution_count": 11,
   "id": "3f641432",
   "metadata": {},
   "outputs": [],
   "source": [
    "# only rotated list will be given.O(n)\n",
    "def NumberOfRotation1(rotated_list):\n",
    "    for i in range(len(rotated_list)-1):\n",
    "        if rotated_list[i+1]<rotated_list[i]:\n",
    "            return i+1\n",
    "    return 0\n"
   ]
  },
  {
   "cell_type": "code",
   "execution_count": 4,
   "id": "1620aa9d",
   "metadata": {},
   "outputs": [],
   "source": [
    "# O(n)\n",
    "def NumberOfRotation(num):\n",
    "    first=0\n",
    "    last=len(num)-1\n",
    "    found=False\n",
    "    while found==False and first<=last:\n",
    "        middle=(first+last)//2\n",
    "        if num[middle-1]>num[middle]:\n",
    "            found=True\n",
    "            return middle\n",
    "        else:\n",
    "            if num[middle]<num[last]:\n",
    "                last=middle-1\n",
    "            else:\n",
    "                first=middle+1\n",
    "    return 0\n",
    "        "
   ]
  },
  {
   "cell_type": "code",
   "execution_count": 12,
   "id": "4ffcb11b",
   "metadata": {},
   "outputs": [
    {
     "data": {
      "text/plain": [
       "3"
      ]
     },
     "execution_count": 12,
     "metadata": {},
     "output_type": "execute_result"
    }
   ],
   "source": [
    "NumberOfRotation1([19, 25, 29, 3, 5, 6, 7, 9, 11, 14])"
   ]
  }
 ],
 "metadata": {
  "kernelspec": {
   "display_name": "Python 3",
   "language": "python",
   "name": "python3"
  },
  "language_info": {
   "codemirror_mode": {
    "name": "ipython",
    "version": 3
   },
   "file_extension": ".py",
   "mimetype": "text/x-python",
   "name": "python",
   "nbconvert_exporter": "python",
   "pygments_lexer": "ipython3",
   "version": "3.8.8"
  }
 },
 "nbformat": 4,
 "nbformat_minor": 5
}
