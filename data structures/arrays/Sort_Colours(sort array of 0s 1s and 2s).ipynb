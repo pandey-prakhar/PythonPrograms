{
 "cells": [
  {
   "cell_type": "markdown",
   "id": "1c5687bb",
   "metadata": {},
   "source": [
    "PROBLEM STATEMENT -Given an array nums with n objects colored red, white, or blue, sort them in-place so that objects of the same color are adjacent, with the colors in the order red, white, and blue.\n",
    "\n",
    "We will use the integers 0, 1, and 2 to represent the color red, white, and blue, respectively.\n",
    "\n",
    "You must solve this problem without using the library's sort function.\n",
    "\n",
    " \n",
    "\n",
    "Example 1:\n",
    "\n",
    "Input: nums = [2,0,2,1,1,0]\n",
    "Output: [0,0,1,1,2,2]"
   ]
  },
  {
   "cell_type": "code",
   "execution_count": 20,
   "id": "0882642a",
   "metadata": {},
   "outputs": [
    {
     "name": "stdout",
     "output_type": "stream",
     "text": [
      "array('i', [1, 2, 3, 4, 5, 6])\n"
     ]
    }
   ],
   "source": [
    "listy=[1,2,3,4,5,6]\n",
    "nums=array('i', (a for a in listy))\n",
    "print(nums)"
   ]
  },
  {
   "cell_type": "code",
   "execution_count": 15,
   "id": "066b4f11",
   "metadata": {},
   "outputs": [],
   "source": [
    "# from array import *\n",
    "# def sort_colours(array(nums):\n",
    "#     n=len(nums)\n",
    "#     for i in range(1,n):\n",
    "#         j=i\n",
    "#         value=nums[i]\n",
    "#         while j>0 and nums[j-1]>value:\n",
    "#             nums[j]=nums[j-1]\n",
    "#             j-=1\n",
    "#         nums[j]=value\n",
    "# THIS WAS MY SOLN , BUT IS BASED ON INSERTION SORT.\n",
    "    \n",
    "        "
   ]
  },
  {
   "cell_type": "code",
   "execution_count": 16,
   "id": "1e4a5307",
   "metadata": {},
   "outputs": [],
   "source": [
    "nums = [2,0,2,1,1,0]\n",
    "sort_colours(nums)"
   ]
  },
  {
   "cell_type": "code",
   "execution_count": 17,
   "id": "59313bf7",
   "metadata": {},
   "outputs": [
    {
     "name": "stdout",
     "output_type": "stream",
     "text": [
      "[0, 0, 1, 1, 2, 2]\n"
     ]
    }
   ],
   "source": [
    "print(nums)"
   ]
  },
  {
   "cell_type": "markdown",
   "id": "fa68a4e9",
   "metadata": {},
   "source": [
    "THIS IS THE SOLN BASED ON FAMOUS DUTCH NATIONAL FLAG PROBLEM AND IS OF TIME COMPLEXITY O(n) AND EFFICIENT IF WE NEED TO CATEGORIZE THINGS IN THREE PARTS\n",
    "Algorithm: \n",
    "Keep three indices low = 1, mid = 1 and high = N and there are four ranges, 1 to low (the range containing 0), low to mid (the range containing 1), mid to high (the range containing unknown elements) and high to N (the range containing 2).\n",
    "Traverse the array from start to end and mid is less than high. (Loop counter is i)\n",
    "If the element is 0 then swap the element with the element at index low and update low = low + 1 and mid = mid + 1\n",
    "If the element is 1 then update mid = mid + 1\n",
    "If the element is 2 then swap the element with the element at index high and update high = high – 1 and update i = i – 1. As the swapped element is not processed\n",
    "Print the output array."
   ]
  },
  {
   "cell_type": "code",
   "execution_count": 29,
   "id": "33335daa",
   "metadata": {},
   "outputs": [],
   "source": [
    "def sortColors(nums):\n",
    "    red, white, blue = 0, 0, len(nums)-1\n",
    "    \n",
    "    while white <= blue:\n",
    "        if nums[white] == 0:\n",
    "            nums[red], nums[white] = nums[white], nums[red]\n",
    "            white += 1\n",
    "            red += 1\n",
    "        elif nums[white] == 1:\n",
    "            white += 1\n",
    "        else:\n",
    "            nums[white], nums[blue] = nums[blue], nums[white]\n",
    "            blue -= 1"
   ]
  },
  {
   "cell_type": "code",
   "execution_count": 30,
   "id": "1429e13e",
   "metadata": {},
   "outputs": [],
   "source": [
    "nums = [2,0,2,1,1,0]\n",
    "sortColors(nums)"
   ]
  },
  {
   "cell_type": "code",
   "execution_count": 31,
   "id": "4ead3d6e",
   "metadata": {},
   "outputs": [
    {
     "name": "stdout",
     "output_type": "stream",
     "text": [
      "[0, 0, 1, 1, 2, 2]\n"
     ]
    }
   ],
   "source": [
    "print(nums)"
   ]
  }
 ],
 "metadata": {
  "kernelspec": {
   "display_name": "Python 3",
   "language": "python",
   "name": "python3"
  },
  "language_info": {
   "codemirror_mode": {
    "name": "ipython",
    "version": 3
   },
   "file_extension": ".py",
   "mimetype": "text/x-python",
   "name": "python",
   "nbconvert_exporter": "python",
   "pygments_lexer": "ipython3",
   "version": "3.8.8"
  }
 },
 "nbformat": 4,
 "nbformat_minor": 5
}
