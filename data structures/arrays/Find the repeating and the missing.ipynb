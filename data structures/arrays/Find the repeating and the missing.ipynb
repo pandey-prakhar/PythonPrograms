{
 "cells": [
  {
   "cell_type": "markdown",
   "id": "d9eb2266",
   "metadata": {},
   "source": [
    "Given an array nums containing n distinct numbers in the range [0, n], return the only number in the range that is missing from the array.\n",
    "\n",
    "Follow up: Could you implement a solution using only O(1) extra space complexity and O(n) runtime complexity?\n",
    "\n",
    " \n",
    "\n",
    "Example 1:\n",
    "\n",
    "Input: nums = [3,0,1]\n",
    "Output: 2\n",
    "Explanation: n = 3 since there are 3 numbers, so all numbers are in the range [0,3]. 2 is the missing number in the range since it does not appear in num"
   ]
  },
  {
   "cell_type": "code",
   "execution_count": 7,
   "id": "41814efd",
   "metadata": {},
   "outputs": [],
   "source": [
    "# missing o(2n) method 1 -Using a count array or list\n",
    "def missing1(nums) -> int:\n",
    "    temp=[0 for j in range(len(nums)+1)]\n",
    "    for element in nums:\n",
    "        temp[element]=temp[element]+1\n",
    "    for i in range(len(temp)):\n",
    "        if temp[i]==0:\n",
    "            print(f'missing={i}')"
   ]
  },
  {
   "cell_type": "code",
   "execution_count": 9,
   "id": "4f37d9a3",
   "metadata": {},
   "outputs": [
    {
     "name": "stdout",
     "output_type": "stream",
     "text": [
      "missing=2\n"
     ]
    }
   ],
   "source": [
    "num=[3,0,1]\n",
    "missing1(num)"
   ]
  },
  {
   "cell_type": "code",
   "execution_count": null,
   "id": "0e36a3cf",
   "metadata": {},
   "outputs": [],
   "source": [
    "# METHOD2 using two equations ie sum and sum of squares\n",
    "def missing2(nums):\n",
    "    "
   ]
  },
  {
   "cell_type": "markdown",
   "id": "e50e01b3",
   "metadata": {},
   "source": [
    "given an unsorted array of size n. Array elements are in the range from 1 to n. One number from set {1, 2, …n} is missing and one number occurs twice in the array. Find these two numbers.\n",
    "\n",
    "Examples: \n",
    "\n",
    " Input: arr[] = {3, 1, 3}\n",
    "Output: Missing = 2, Repeating = 3\n",
    "Explanation: In the array, \n",
    "2 is missing and 3 occurs twice "
   ]
  },
  {
   "cell_type": "code",
   "execution_count": 6,
   "id": "384af0dc",
   "metadata": {},
   "outputs": [],
   "source": [
    "# METHOD1 Using a count array or list\n",
    "def miss_rept1(array):\n",
    "    temp_arr=[0 for i in range(len(array))]\n",
    "    for element in array:\n",
    "        if temp_arr[element-1]==0:\n",
    "            temp_arr[element-1]+=1\n",
    "        else:\n",
    "            rept= element\n",
    "    for i in range(len(temp_arr)):\n",
    "        if temp_arr[i]==0:\n",
    "            print(f'missing = {i+1} and repeating = {rept}', end=\" \")\n",
    "#     for i in range(len(temp_arr)):\n",
    "#         if temp_arr[i]>1:\n",
    "#             print(f'repeating = {i+1}')"
   ]
  },
  {
   "cell_type": "code",
   "execution_count": 7,
   "id": "bc51502b",
   "metadata": {},
   "outputs": [
    {
     "name": "stdout",
     "output_type": "stream",
     "text": [
      "missing = 3 and repeating = 2 "
     ]
    }
   ],
   "source": [
    "miss_rept1([1,2,2,4,5])"
   ]
  },
  {
   "cell_type": "code",
   "execution_count": 11,
   "id": "cc04d5fc",
   "metadata": {},
   "outputs": [
    {
     "name": "stdout",
     "output_type": "stream",
     "text": [
      "6 5 "
     ]
    }
   ],
   "source": [
    "# Method2 using two equations ie sum and sum of squares\n",
    "# def miss_rept2(array):\n",
    "#     n=len(array)\n",
    "#     SumOfArr=sum(array)\n",
    "#     Sum= n*(n+1)/2\n",
    "#     v1=SumOfArr-Sum\n",
    "#     SquaredSumArray=sum(a**2 for a in array) \n",
    "#     SquaredSum=(n*(n+1)*(2*n+1))/6\n",
    "#     v2=SquaredSumArray-SquaredSum\n",
    "#     rept=int(v1+(v2/v1)/2)\n",
    "#     print(f'repeating={rept} and missing={int(rept-v1)}', end=' ')\n",
    "    \n",
    "def repeatedNumber(A):\n",
    "     \n",
    "    length = len(A)\n",
    "    Sum_N = (length * (length + 1)) // 2\n",
    "    Sum_NSq = ((length * (length + 1) *\n",
    "                     (2 * length + 1)) // 6)\n",
    "     \n",
    "    missingNumber, repeating = 0, 0\n",
    "     \n",
    "    for i in range(len(A)):\n",
    "        Sum_N -= A[i]\n",
    "        Sum_NSq -= A[i] * A[i]\n",
    "         \n",
    "    missingNumber = (Sum_N + Sum_NSq //\n",
    "                             Sum_N) // 2\n",
    "    repeating = missingNumber - Sum_N\n",
    "     \n",
    "    ans = []\n",
    "    ans.append(repeating)\n",
    "    ans.append(missingNumber)\n",
    "     \n",
    "    return ans\n",
    " \n",
    "# Driver code\n",
    "v = [ 4, 3, 6, 2, 1, 6, 7 ]\n",
    "res = repeatedNumber(v)\n",
    " \n",
    "for i in res:\n",
    "    print(i, end = \" \")\n",
    "    \n",
    "    \n"
   ]
  },
  {
   "cell_type": "code",
   "execution_count": 12,
   "id": "60359ea0",
   "metadata": {},
   "outputs": [
    {
     "data": {
      "text/plain": [
       "[5, 4]"
      ]
     },
     "execution_count": 12,
     "metadata": {},
     "output_type": "execute_result"
    }
   ],
   "source": [
    "repeatedNumber([1,2,3,5,5])"
   ]
  },
  {
   "cell_type": "code",
   "execution_count": null,
   "id": "54396dac",
   "metadata": {},
   "outputs": [],
   "source": [
    "# method3 xor\n",
    "# Python3 program to find the repeating\n",
    "# and missing elements\n",
    " \n",
    "# The output of this function is stored\n",
    "# at x and y\n",
    "def getTwoElements(arr, n):\n",
    "     \n",
    "    global x, y\n",
    "    x = 0\n",
    "    y = 0\n",
    "     \n",
    "    # Will hold xor of all elements\n",
    "    # and numbers from 1 to n\n",
    "    xor1 = arr[0]\n",
    "     \n",
    "    # Get the xor of all array elements\n",
    "    for i in range(1, n):\n",
    "        xor1 = xor1 ^ arr[i]\n",
    "         \n",
    "    # XOR the previous result with numbers\n",
    "    # from 1 to n\n",
    "    for i in range(1, n + 1):\n",
    "        xor1 = xor1 ^ i\n",
    "     \n",
    "    # Will have only single set bit of xor1\n",
    "    set_bit_no = xor1 & ~(xor1 - 1)\n",
    "     \n",
    "    # Now divide elements into two\n",
    "    # sets by comparing a rightmost set\n",
    "    # bit of xor1 with the bit at the same\n",
    "    # position in each element. Also,\n",
    "    # get XORs of two sets. The two\n",
    "    # XORs are the output elements.\n",
    "    # The following two for loops\n",
    "    # serve the purpose\n",
    "    for i in range(n):\n",
    "        if (arr[i] & set_bit_no) != 0:\n",
    "             \n",
    "            # arr[i] belongs to first set\n",
    "            x = x ^ arr[i]\n",
    "        else:\n",
    "             \n",
    "            # arr[i] belongs to second set\n",
    "            y = y ^ arr[i]\n",
    "             \n",
    "    for i in range(1, n + 1):\n",
    "        if (i & set_bit_no) != 0:\n",
    "             \n",
    "            # i belongs to first set\n",
    "            x = x ^ i\n",
    "        else:\n",
    "             \n",
    "            # i belongs to second set\n",
    "            y = y ^ i\n",
    "         \n",
    "    # x and y hold the desired\n",
    "    # output elements\n",
    "     \n",
    "# Driver code\n",
    "arr = [ 1, 3, 4, 5, 5, 6, 2 ]\n",
    "n = len(arr)\n",
    "     \n",
    "getTwoElements(arr, n)\n",
    " \n",
    "print(\"The missing element is\", x,\n",
    "      \"and the repeating number is\", y)"
   ]
  }
 ],
 "metadata": {
  "kernelspec": {
   "display_name": "Python 3",
   "language": "python",
   "name": "python3"
  },
  "language_info": {
   "codemirror_mode": {
    "name": "ipython",
    "version": 3
   },
   "file_extension": ".py",
   "mimetype": "text/x-python",
   "name": "python",
   "nbconvert_exporter": "python",
   "pygments_lexer": "ipython3",
   "version": "3.8.8"
  }
 },
 "nbformat": 4,
 "nbformat_minor": 5
}
