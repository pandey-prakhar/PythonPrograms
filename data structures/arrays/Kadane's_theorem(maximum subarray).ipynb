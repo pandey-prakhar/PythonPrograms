{
 "cells": [
  {
   "cell_type": "markdown",
   "id": "cdd8d4c9",
   "metadata": {},
   "source": [
    "Given an integer array nums, find the contiguous subarray (containing at least one number) which has the largest sum and return its sum.\n",
    "\n",
    "A subarray is a contiguous part of an array.\n",
    "\n",
    " \n",
    "\n",
    "Example 1:\n",
    "\n",
    "Input: nums = [-2,1,-3,4,-1,2,1,-5,4]\n",
    "Output: 6\n",
    "Explanation: [4,-1,2,1] has the largest sum = 6."
   ]
  },
  {
   "cell_type": "code",
   "execution_count": 134,
   "id": "2c656f2f",
   "metadata": {},
   "outputs": [],
   "source": [
    "# brute force , most basic approach\n",
    "def max_sum(arr):\n",
    "    maxi=arr[0]\n",
    "    for i in range(len(arr)):\n",
    "        \n",
    "        temp=0\n",
    "        for j in range(i,len(arr)):\n",
    "            temp=temp+arr[j]\n",
    "            if maxi<temp:\n",
    "                maxi=temp\n",
    "            \n",
    "\n",
    "            \n",
    "    return maxi\n",
    "# 2)using while loop\n",
    "# maxSubArray(nums) -> int:\n",
    "#     maxi=nums[0]\n",
    "#     for i in range(len(nums)):\n",
    "#         temp=0\n",
    "#         j=i\n",
    "#         while j<len(nums):\n",
    "#             temp=temp+nums[j]\n",
    "#            \n",
    "#             elif maxi<temp:\n",
    "#                 maxi=temp\n",
    "#             j=j+1\n",
    "#     return maxi\n",
    "            "
   ]
  },
  {
   "cell_type": "code",
   "execution_count": 2,
   "id": "6e3cc403",
   "metadata": {},
   "outputs": [],
   "source": [
    "# KADANE'S ALGORITHS\n",
    "# most optimized for finsing maximum sum subarray\n",
    "def maxSum(arr):\n",
    "    maxi=arr[0]\n",
    "    temp=0\n",
    "    for i in range(len(arr)):\n",
    "        temp+=arr[i]\n",
    "        if temp>maxi:\n",
    "            maxi=temp\n",
    "        if temp<0:\n",
    "            temp=0\n",
    "    return maxi\n",
    "    "
   ]
  },
  {
   "cell_type": "code",
   "execution_count": 5,
   "id": "5c260a03",
   "metadata": {},
   "outputs": [
    {
     "data": {
      "text/plain": [
       "-1"
      ]
     },
     "execution_count": 5,
     "metadata": {},
     "output_type": "execute_result"
    }
   ],
   "source": [
    "y=maxSum([-3,-1])\n",
    "y"
   ]
  },
  {
   "cell_type": "code",
   "execution_count": null,
   "id": "ccf6b461",
   "metadata": {},
   "outputs": [],
   "source": []
  }
 ],
 "metadata": {
  "kernelspec": {
   "display_name": "Python 3",
   "language": "python",
   "name": "python3"
  },
  "language_info": {
   "codemirror_mode": {
    "name": "ipython",
    "version": 3
   },
   "file_extension": ".py",
   "mimetype": "text/x-python",
   "name": "python",
   "nbconvert_exporter": "python",
   "pygments_lexer": "ipython3",
   "version": "3.8.8"
  }
 },
 "nbformat": 4,
 "nbformat_minor": 5
}
