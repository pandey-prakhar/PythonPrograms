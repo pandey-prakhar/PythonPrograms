{
 "cells": [
  {
   "cell_type": "markdown",
   "id": "4ff49822",
   "metadata": {},
   "source": [
    "LEETCODE SUM\n",
    "You are given two integer arrays nums1 and nums2, sorted in non-decreasing order, and two integers m and n, representing the number of elements in nums1 and nums2 respectively.\n",
    "\n",
    "Merge nums1 and nums2 into a single array sorted in non-decreasing order.\n",
    "\n",
    "The final sorted array should not be returned by the function, but instead be stored inside the array nums1. To accommodate this, nums1 has a length of m + n, where the first m elements denote the elements that should be merged, and the last n elements are set to 0 and should be ignored. nums2 has a length of n.\n",
    "\n",
    " \n",
    "\n",
    "Example 1:\n",
    "\n",
    "Input: nums1 = [1,2,3,0,0,0], m = 3, nums2 = [2,5,6], n = 3\n",
    "Output: [1,2,2,3,5,6]\n",
    "Explanation: The arrays we are merging are [1,2,3] and [2,5,6].\n",
    "The result of the merge is [1,2,2,3,5,6] with the underlined elements coming from nums1."
   ]
  },
  {
   "cell_type": "code",
   "execution_count": 2,
   "id": "90c3dadc",
   "metadata": {},
   "outputs": [],
   "source": [
    "class Solution:\n",
    "    def merge(self, nums1, m, nums2, n) -> None:\n",
    "        for i in range(n):\n",
    "            nums1[m+i]=nums2[i]\n",
    "        nums1.sort()# INSTEAD MAKE YOUR SORTING FUNCTION AND CALL THAT HERE  "
   ]
  },
  {
   "cell_type": "code",
   "execution_count": 3,
   "id": "53dd6941",
   "metadata": {},
   "outputs": [],
   "source": [
    "def merge1(nums1,m,nums2,n):\n",
    "    while n>0 :\n",
    "        if m<=0 or nums2[n-1]>=nums1[m-1]:\n",
    "            nums1[m+n-1]=nums2[n-1]\n",
    "            n-=1\n",
    "        else:\n",
    "            nums1[m+n-1]=nums1[m-1]\n",
    "            m-=1"
   ]
  },
  {
   "cell_type": "markdown",
   "id": "65a9f029",
   "metadata": {},
   "source": [
    "gfg question\n",
    "Given two sorted arrays, we need to merge them in O((n+m)*log(n+m)) time with O(1) extra space into a sorted array, when n is the size of the first array, and m is the size of the second array.\n",
    "\n",
    "Example:  \n",
    "\n",
    "Input: ar1[] = {10};\n",
    "       ar2[] = {2, 3};\n",
    "Output: ar1[] = {2}\n",
    "        ar2[] = {3, 1}"
   ]
  },
  {
   "cell_type": "code",
   "execution_count": 12,
   "id": "802a3a6e",
   "metadata": {},
   "outputs": [],
   "source": [
    "# method1-making temporary array(brute force) BUT space complexity is o(n)\n",
    "def merge2(arr1,arr2,m,n):\n",
    "    temp=[]\n",
    "    for i in range(m+n):\n",
    "        if i<m:\n",
    "            temp.append(arr1[i])\n",
    "        else:\n",
    "            i=i%m\n",
    "            temp.append(arr2[i])\n",
    "    temp=sorted(temp)\n",
    "    for i in range(m+n):\n",
    "        if i<m:\n",
    "            arr1[i]=temp[i]\n",
    "        else:\n",
    "            j=i%m\n",
    "            arr2[j]=temp[i]\n",
    "    \n",
    "    "
   ]
  },
  {
   "cell_type": "code",
   "execution_count": 1,
   "id": "63e7b71c",
   "metadata": {},
   "outputs": [],
   "source": [
    "# method2 using shell sort or gap method.\n",
    "# ?explanation of shell sort in search and sort notebook.\n",
    "def merge3(arr1,arr2,m,n):\n",
    "    gap = (m+n)//2\n",
    "    while gap>0:\n",
    "        j=0\n",
    "        while j+gap<m+n:\n",
    "            if j+gap<m:\n",
    "                if arr1[j]>arr1[j+gap]:\n",
    "                    arr1[j],arr1[j+gap]=arr1[j+gap],arr1[j]\n",
    "                    \n",
    "            elif j<m and j+gap>=m:\n",
    "                k = (j+gap)%m\n",
    "                if arr1[j]> arr2[k]:\n",
    "                    arr1[j],arr2[k]=arr2[k],arr1[j]\n",
    "                    \n",
    "            elif j>m:\n",
    "                i,k=j%m,(j+gap)%m\n",
    "                if arr2[i]>arr2[k]:\n",
    "                    arr2[i],arr2[k]=arr2[k],arr2[i]\n",
    "                    \n",
    "            j+=1\n",
    "        gap=gap//2\n",
    "                    \n",
    "                \n",
    "    \n",
    "    \n"
   ]
  },
  {
   "cell_type": "code",
   "execution_count": null,
   "id": "a93bfc65",
   "metadata": {},
   "outputs": [],
   "source": [
    "# method2 using shell sort or gap method.\n",
    "# ?explanation of shell sort in search and sort notebook.\n",
    "def merge3(arr1,arr2,m,n):\n",
    "    gap = (m+n)//2\n",
    "    while gap>0:\n",
    "        j=0\n",
    "        while j+gap>=m and j+gap<m+n:\n",
    "#             if j+gap<m:\n",
    "#                 if arr1[j]>arr1[j+gap]:\n",
    "#                     arr1[j],arr1[j+gap]=arr1[j+gap],arr1[j]\n",
    "                    \n",
    "            if j<m and j+gap>=m:\n",
    "                k = (j+gap)%m\n",
    "                if arr1[j]> arr2[k]:\n",
    "                    arr1[j],arr2[k]=arr2[k],arr1[j]\n",
    "                    \n",
    "            elif j>m:\n",
    "                i,k=j%m,(j+gap)%m\n",
    "                if arr2[i]>arr2[k]:\n",
    "                    arr2[i],arr2[k]=arr2[k],arr2[i]\n",
    "                    \n",
    "            j+=1\n",
    "        gap=gap//2\n",
    "                    \n",
    "                \n",
    "    \n",
    "    \n"
   ]
  },
  {
   "cell_type": "code",
   "execution_count": 2,
   "id": "beaae59a",
   "metadata": {},
   "outputs": [
    {
     "name": "stdout",
     "output_type": "stream",
     "text": [
      "[4, 5, 7]\n"
     ]
    },
    {
     "data": {
      "text/plain": [
       "[8, 9]"
      ]
     },
     "execution_count": 2,
     "metadata": {},
     "output_type": "execute_result"
    }
   ],
   "source": [
    "arr1=[4,7,9]\n",
    "arr2=[5,8]\n",
    "merge3(arr1,arr2,len(arr1),len(arr2))\n",
    "print(arr1)\n",
    "arr2\n",
    "\n"
   ]
  },
  {
   "cell_type": "code",
   "execution_count": null,
   "id": "2282f5bf",
   "metadata": {},
   "outputs": [],
   "source": []
  }
 ],
 "metadata": {
  "kernelspec": {
   "display_name": "Python 3",
   "language": "python",
   "name": "python3"
  },
  "language_info": {
   "codemirror_mode": {
    "name": "ipython",
    "version": 3
   },
   "file_extension": ".py",
   "mimetype": "text/x-python",
   "name": "python",
   "nbconvert_exporter": "python",
   "pygments_lexer": "ipython3",
   "version": "3.8.8"
  }
 },
 "nbformat": 4,
 "nbformat_minor": 5
}
